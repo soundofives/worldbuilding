{
 "cells": [
  {
   "cell_type": "code",
   "execution_count": 3,
   "metadata": {},
   "outputs": [],
   "source": [
    "import numpy as np\n",
    "import matplotlib.pyplot as plt"
   ]
  },
  {
   "cell_type": "code",
   "execution_count": 4,
   "metadata": {},
   "outputs": [
    {
     "data": {
      "text/plain": [
       "5.768"
      ]
     },
     "execution_count": 4,
     "metadata": {},
     "output_type": "execute_result"
    }
   ],
   "source": [
    "(34296-32854)/250"
   ]
  },
  {
   "cell_type": "code",
   "execution_count": 5,
   "metadata": {},
   "outputs": [],
   "source": [
    "def shift_f(current,shift,shift_direction):\n",
    "    return current + (shift*shift_direction)"
   ]
  },
  {
   "cell_type": "code",
   "execution_count": 6,
   "metadata": {},
   "outputs": [
    {
     "name": "stdout",
     "output_type": "stream",
     "text": [
      "31,013 BBT|\n"
     ]
    }
   ],
   "source": [
    "current = np.array([34760]) #[ BBT year, Current age ]\n",
    "#36928\n",
    "shift_direction = np.array([-1]) #positive 1 for a number that goes up, negative for decreasing date\n",
    "\n",
    "shift = 3747#4351 #how many years to shift\n",
    "age_code = \"YH\"\n",
    "\n",
    "final = shift_f(current,shift,shift_direction)\n",
    "\n",
    "#print( f'{final[0]:,}'+\" BBT|\"+str(final[1])+\" \"+age_code)  \n",
    "print( f'{final[0]:,}'+\" BBT|\")  "
   ]
  },
  {
   "cell_type": "code",
   "execution_count": 7,
   "metadata": {},
   "outputs": [
    {
     "data": {
      "text/plain": [
       "3979"
      ]
     },
     "execution_count": 7,
     "metadata": {},
     "output_type": "execute_result"
    }
   ],
   "source": [
    "9779-5800"
   ]
  },
  {
   "cell_type": "code",
   "execution_count": 8,
   "metadata": {},
   "outputs": [
    {
     "name": "stdout",
     "output_type": "stream",
     "text": [
      "8880\n",
      "9280\n"
     ]
    }
   ],
   "source": [
    "current = 38948 #BBT\n",
    "final =  30068#BBT\n",
    "\n",
    "shift = current-final\n",
    "shift_direction = 1\n",
    "print(shift)\n",
    "\n",
    "current_age = 400 #age\n",
    "final_age = current_age + shift*shift_direction\n",
    "\n",
    "print(final_age)"
   ]
  },
  {
   "cell_type": "code",
   "execution_count": null,
   "metadata": {},
   "outputs": [],
   "source": []
  },
  {
   "cell_type": "markdown",
   "metadata": {},
   "source": [
    "# Civilization Length"
   ]
  },
  {
   "cell_type": "code",
   "execution_count": 9,
   "metadata": {},
   "outputs": [],
   "source": [
    "gen_human = 27\n",
    "gen_astar = 120"
   ]
  },
  {
   "cell_type": "code",
   "execution_count": 21,
   "metadata": {},
   "outputs": [
    {
     "name": "stdout",
     "output_type": "stream",
     "text": [
      "303.78228782287823 345.47763693162267\n"
     ]
    }
   ],
   "source": [
    "#human_empires = [505,405,501,827,800,400,187,157,500,500,46,241,313,322,210,299,250,250,478,400,1000,70,342,220,1000,661,351,298,700,225,1150,404,330,411,244,203,43,144,364,87,66,540,800,200,667,220,461,24,302,265,177,137,249,500,500,90,469,450,14,184,197,156,735,442,120,112,370,1100,45,725,140,525,195,200,70,290,250,90,100,350,30,130,100,240,90,220,70]\n",
    "human_empires = [2000,508,407,220,60,109,610,474,180,790,362,390,148,107,88,125,618,1416,226,63,51,89,93,22,1166,87,933,228,287,698,385,149,61,224,457,506,67,10,394,89,520,279,36,338,237,113,121,275,45,668,286,3,462,210,643,700,252,2129,1678,100,11,23,342,554,274,417,321,93,76,407,565,473,110,113,837,262,11,18,446,43,500,14,71,701,47,940,224,67,705,474,250,193,262,645,262,67,536,230,346,426,292,41,147,280,844,29,317,99,252,186,79,117,464,95,65,79,154,119,327,199,505,330,997,126,195,45,372,382,300,629,30,144,378,133,188,13,315,1620,254,177,57,361,210,75,11,207,234,375,111,267,13,144,221,42,168,269,136,76,250,2,3,276,200,162,232,100,108,143,19,57,267,162,158,450,623,505,448,54,200,424,3,2259,471,226,73,584,170,275,131,90,94,15,268,389,29,229,1962,1123,81,225,206,132,196,241,105,235,135,427,450,180,528,297,249,157,25,42,554,150,223,116,70,99,319,251,496,610,37,551,112,510,18,110,52,289,141,24,657,22,12,87,687,693,156,321,257,626,242,45,915,67,89,177,106,43,99,305,310,1100,600,17,82,216,470,189,14,97,44,790,15,176,79]\n",
    "hea = np.mean(human_empires) #human empire average\n",
    "hes = np.std(human_empires) #std\n",
    "print(hea,hes)\n",
    "\n",
    "#Average civilization is ~300 years for humans\n",
    "civ_len_gen = hea/gen_human\n",
    "civ_len_std = hes/gen_human\n",
    "\n",
    "def get_civ_rand():\n",
    "    civlen = -1\n",
    "    while civlen < 0:\n",
    "        civlen = np.random.normal(loc=civ_len_gen,scale=civ_len_std)\n",
    "    return civlen"
   ]
  },
  {
   "cell_type": "code",
   "execution_count": 22,
   "metadata": {},
   "outputs": [
    {
     "data": {
      "text/plain": [
       "Text(0, 0.5, 'Count, of 1000 civilizations')"
      ]
     },
     "execution_count": 22,
     "metadata": {},
     "output_type": "execute_result"
    },
    {
     "data": {
      "image/png": "[encoded data removed]",
      "text/plain": [
       "<Figure size 432x288 with 1 Axes>"
      ]
     },
     "metadata": {
      "needs_background": "light"
     },
     "output_type": "display_data"
    }
   ],
   "source": [
    "civlenlist = []\n",
    "for i in range(0,100000):\n",
    "    newciv = get_civ_rand()\n",
    "    if newciv > 0:\n",
    "        civlenlist.append(newciv)\n",
    "    \n",
    "plt.hist(civlenlist)\n",
    "plt.xlabel(\"Civilization generation length\")\n",
    "plt.ylabel(\"Count, of 1000 civilizations\")"
   ]
  },
  {
   "cell_type": "code",
   "execution_count": 20,
   "metadata": {},
   "outputs": [
    {
     "name": "stdout",
     "output_type": "stream",
     "text": [
      "2992.0\n",
      "1652.0\n",
      "3129.0\n",
      "1374.0\n",
      "1037.0\n",
      "1946.0\n",
      "1080.0\n",
      "2373.0\n",
      "1094.0\n",
      "633.0\n",
      "730.0\n",
      "2987.0\n",
      "1675.0\n",
      "1503.0\n",
      "566.0\n",
      "1209.0\n",
      "129.0\n",
      "3639.0\n",
      "3100.0\n",
      "193.0\n",
      "344.0\n",
      "1173.0\n",
      "686.0\n",
      "4145.0\n",
      "1579.0\n",
      "2793.0\n",
      "101.0\n",
      "146.0\n",
      "763.0\n",
      "1456.0\n",
      "612.0\n",
      "4334.0\n",
      "4363.0\n",
      "3097.0\n",
      "500.0\n",
      "3291.0\n",
      "1400.0\n",
      "2293.0\n",
      "2447.0\n",
      "1960.0\n",
      "2216.0\n",
      "3669.0\n",
      "730.0\n",
      "851.0\n",
      "1616.0\n",
      "2228.0\n",
      "2349.0\n",
      "327.0\n",
      "238.0\n",
      "312.0\n",
      "Mean civ length, astar:  1701.2\n"
     ]
    }
   ],
   "source": [
    "#make a list of astar civilization lengths\n",
    "astar_civ_lens = []\n",
    "for civ in range(0,50):\n",
    "    astar_civ_lens.append(np.round(gen_astar*get_civ_rand()))\n",
    "    print(astar_civ_lens[-1])\n",
    "    \n",
    "print(\"Mean civ length, astar: \",np.mean(astar_civ_lens))"
   ]
  },
  {
   "cell_type": "markdown",
   "metadata": {},
   "source": [
    "## Half-astar"
   ]
  },
  {
   "cell_type": "code",
   "execution_count": 26,
   "metadata": {},
   "outputs": [
    {
     "name": "stdout",
     "output_type": "stream",
     "text": [
      "3948.0\n",
      "5041.0\n",
      "819.0\n",
      "4569.0\n",
      "1605.0\n",
      "1560.0\n",
      "92.0\n",
      "1817.0\n",
      "1256.0\n",
      "2861.0\n",
      "2251.0\n",
      "4488.0\n",
      "3422.0\n",
      "2527.0\n",
      "2465.0\n",
      "402.0\n",
      "2679.0\n",
      "3505.0\n",
      "3438.0\n",
      "116.0\n",
      "1052.0\n",
      "2204.0\n",
      "2704.0\n",
      "2630.0\n",
      "4081.0\n",
      "3111.0\n",
      "2974.0\n",
      "880.0\n",
      "1991.0\n",
      "3258.0\n",
      "Mean civ length, astar:  2458.2\n"
     ]
    }
   ],
   "source": [
    "#make a list of astar civilization lengths\n",
    "astar_civ_lens = []\n",
    "for civ in range(0,30):\n",
    "    astar_civ_lens.append(np.round((200)*get_civ_rand()))\n",
    "    print(astar_civ_lens[-1])\n",
    "    \n",
    "print(\"Mean civ length, astar: \",np.mean(astar_civ_lens))"
   ]
  },
  {
   "cell_type": "code",
   "execution_count": 29,
   "metadata": {},
   "outputs": [
    {
     "name": "stdout",
     "output_type": "stream",
     "text": [
      "27884\n",
      "44795\n",
      "42565\n",
      "483\n",
      "16067\n",
      "43834\n",
      "29873\n",
      "11648\n",
      "19079\n",
      "13642\n",
      "43944\n",
      "15500\n",
      "4087\n",
      "19352\n",
      "26123\n",
      "20938\n",
      "1945\n",
      "43795\n",
      "30987\n",
      "10970\n",
      "44358\n",
      "32137\n",
      "29123\n",
      "10831\n",
      "42420\n",
      "47606\n",
      "25686\n",
      "19612\n",
      "35081\n",
      "50724\n",
      "Mean civ length, waith:  26836.3\n"
     ]
    }
   ],
   "source": [
    "#make a list of waith civilization lengths\n",
    "waith_civ_lens = []\n",
    "for civ in range(0,30):\n",
    "    waith_civ_lens.append(round(gen_waith*get_civ_rand()))\n",
    "    print(waith_civ_lens[-1])\n",
    "    \n",
    "print(\"Mean civ length, waith: \",np.mean(waith_civ_lens))"
   ]
  },
  {
   "cell_type": "markdown",
   "metadata": {},
   "source": [
    "# Languages"
   ]
  },
  {
   "cell_type": "code",
   "execution_count": 30,
   "metadata": {},
   "outputs": [],
   "source": [
    "##Languages tend to become incomprehensible after being isolated for 500-1000 years\n",
    "def get_lang_change(gen_i):\n",
    "    human_change_len = 500+10*(random.randint(1,300)/2)\n",
    "    gen_num = human_change_len/((gen_human+60)/2)\n",
    "    return gen_i * gen_num"
   ]
  },
  {
   "cell_type": "markdown",
   "metadata": {},
   "source": [
    "# Waith Languages"
   ]
  },
  {
   "cell_type": "code",
   "execution_count": 31,
   "metadata": {},
   "outputs": [
    {
     "name": "stdout",
     "output_type": "stream",
     "text": [
      "281609\n",
      "358621\n",
      "295402\n",
      "341379\n",
      "226437\n",
      "287356\n",
      "263218\n",
      "431034\n",
      "263218\n",
      "237931\n",
      "150575\n",
      "258621\n",
      "345977\n",
      "301149\n",
      "129885\n",
      "165517\n",
      "198851\n",
      "201149\n",
      "142529\n",
      "312644\n",
      "350575\n",
      "304598\n",
      "348276\n",
      "375862\n",
      "455172\n",
      "458621\n",
      "206897\n",
      "348276\n",
      "362069\n",
      "286207\n"
     ]
    }
   ],
   "source": [
    "gen_waith_effective = (18000+2000)/2\n",
    "for civ in range(0,30):\n",
    "    print(round(get_lang_change(gen_waith_effective)))"
   ]
  },
  {
   "cell_type": "markdown",
   "metadata": {},
   "source": [
    "# Astar languages"
   ]
  },
  {
   "cell_type": "code",
   "execution_count": 32,
   "metadata": {},
   "outputs": [
    {
     "name": "stdout",
     "output_type": "stream",
     "text": [
      "5503\n",
      "14028\n",
      "15517\n",
      "13200\n",
      "9434\n",
      "16179\n",
      "8110\n",
      "12000\n",
      "10014\n",
      "8400\n",
      "9931\n",
      "6041\n",
      "7862\n",
      "6166\n",
      "13862\n",
      "4717\n",
      "10055\n",
      "12455\n",
      "9517\n",
      "16097\n",
      "5462\n",
      "16428\n",
      "9352\n",
      "8566\n",
      "15600\n",
      "10800\n",
      "4924\n",
      "16552\n",
      "11628\n",
      "5545\n"
     ]
    }
   ],
   "source": [
    "gen_astar_effective = (600+120)/2\n",
    "for civ in range(0,30):\n",
    "    print(round(get_lang_change(gen_astar_effective)))"
   ]
  },
  {
   "cell_type": "code",
   "execution_count": 33,
   "metadata": {},
   "outputs": [
    {
     "name": "stdout",
     "output_type": "stream",
     "text": [
      "21322\n",
      "13448\n",
      "12759\n",
      "18218\n",
      "17011\n",
      "21494\n",
      "16494\n",
      "10690\n",
      "22126\n",
      "19770\n",
      "12644\n",
      "7931\n",
      "9483\n",
      "10287\n",
      "14655\n",
      "12759\n",
      "7356\n",
      "17241\n",
      "6092\n",
      "14598\n",
      "10057\n",
      "18736\n",
      "18103\n",
      "16149\n",
      "14483\n",
      "13276\n",
      "17414\n",
      "7701\n",
      "19828\n",
      "10747\n"
     ]
    }
   ],
   "source": [
    "gen_astar_effective = (800+200)/2\n",
    "for civ in range(0,30):\n",
    "    print(round(get_lang_change(gen_astar_effective)))"
   ]
  },
  {
   "cell_type": "code",
   "execution_count": 34,
   "metadata": {},
   "outputs": [],
   "source": [
    "##Ancient cities tended to vary in their population over generations.\n",
    "##Eridu was settled around 5400 or 5000 BCE and grew to its largest extent by 2900 BCE. It was abandoned by 2000 BCE.\n",
    "##Eridu represents one of the earliest cities to be settled and to grow to importance.\n",
    "##Let's use Eridu as a model for the rise of the earliest cities.\n",
    "def get_ancient_city_len(gen):\n",
    "    comp_rise = 5200 - 2900\n",
    "    comp_fall = 900\n",
    "    gen_rise = comp_rise/gen_human\n",
    "    gen_fall = comp_fall/gen_human\n",
    "    risefall = [gen_rise,gen_fall]\n",
    "    return [gen*gen_rise,gen*gen_fall]"
   ]
  },
  {
   "cell_type": "code",
   "execution_count": 35,
   "metadata": {},
   "outputs": [
    {
     "data": {
      "text/plain": [
       "[10222.222222222223, 4000.0000000000005]"
      ]
     },
     "execution_count": 35,
     "metadata": {},
     "output_type": "execute_result"
    }
   ],
   "source": [
    "get_ancient_city_len(gen_astar)"
   ]
  },
  {
   "cell_type": "code",
   "execution_count": 36,
   "metadata": {},
   "outputs": [],
   "source": [
    "#Ur is founded in 3800 BC, reaches its peak around 2000 BC, abandoned by 500 BC.\n",
    "def get_ancient_city_len_UR(gen):\n",
    "    comp_rise = 3800 - 2000\n",
    "    comp_fall = 2000 - 500\n",
    "    gen_rise = comp_rise/gen_human\n",
    "    gen_fall = comp_fall/gen_human\n",
    "    risefall = [gen_rise,gen_fall]\n",
    "    return [gen*gen_rise,gen*gen_fall]"
   ]
  },
  {
   "cell_type": "code",
   "execution_count": 37,
   "metadata": {},
   "outputs": [
    {
     "data": {
      "text/plain": [
       "[8000.000000000001, 6666.666666666667]"
      ]
     },
     "execution_count": 37,
     "metadata": {},
     "output_type": "execute_result"
    }
   ],
   "source": [
    "get_ancient_city_len_UR(gen_astar)"
   ]
  },
  {
   "cell_type": "code",
   "execution_count": 38,
   "metadata": {},
   "outputs": [
    {
     "data": {
      "text/plain": [
       "34000"
      ]
     },
     "execution_count": 38,
     "metadata": {},
     "output_type": "execute_result"
    }
   ],
   "source": [
    "49000-15000"
   ]
  },
  {
   "cell_type": "code",
   "execution_count": null,
   "metadata": {},
   "outputs": [],
   "source": []
  }
 ],
 "metadata": {
  "kernelspec": {
   "display_name": "Python 3",
   "language": "python",
   "name": "python3"
  },
  "language_info": {
   "codemirror_mode": {
    "name": "ipython",
    "version": 3
   },
   "file_extension": ".py",
   "mimetype": "text/x-python",
   "name": "python",
   "nbconvert_exporter": "python",
   "pygments_lexer": "ipython3",
   "version": "3.8.2"
  }
 },
 "nbformat": 4,
 "nbformat_minor": 4
}
