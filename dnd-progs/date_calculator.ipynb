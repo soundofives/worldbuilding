{
 "cells": [
  {
   "cell_type": "code",
   "execution_count": 2,
   "metadata": {},
   "outputs": [],
   "source": [
    "import numpy as np\n",
    "import matplotlib.pyplot as plt"
   ]
  },
  {
   "cell_type": "code",
   "execution_count": null,
   "metadata": {},
   "outputs": [],
   "source": []
  },
  {
   "cell_type": "code",
   "execution_count": 3,
   "metadata": {},
   "outputs": [],
   "source": [
    "def shift_f(current,shift,shift_direction):\n",
    "    return current + (shift*shift_direction)"
   ]
  },
  {
   "cell_type": "code",
   "execution_count": 5,
   "metadata": {},
   "outputs": [
    {
     "name": "stdout",
     "output_type": "stream",
     "text": [
      "48,010 BBT|6869 YH\n"
     ]
    }
   ],
   "source": [
    "current = np.array([54481,398]) #[ BBT year, Current age ]\n",
    "\n",
    "shift_direction = np.array([-1 , 1]) #positive 1 for a number that goes up, negative for decreasing date\n",
    "\n",
    "shift = 6471#4351 #how many years to shift\n",
    "age_code = \"YH\"\n",
    "\n",
    "final = shift_f(current,shift,shift_direction)\n",
    "\n",
    "print( f'{final[0]:,}'+\" BBT|\"+str(final[1])+\" \"+age_code)  "
   ]
  },
  {
   "cell_type": "code",
   "execution_count": 1,
   "metadata": {},
   "outputs": [
    {
     "data": {
      "text/plain": [
       "3979"
      ]
     },
     "execution_count": 1,
     "metadata": {},
     "output_type": "execute_result"
    }
   ],
   "source": [
    "9779-5800"
   ]
  },
  {
   "cell_type": "code",
   "execution_count": 18,
   "metadata": {},
   "outputs": [
    {
     "name": "stdout",
     "output_type": "stream",
     "text": [
      "8880\n",
      "9280\n"
     ]
    }
   ],
   "source": [
    "current = 38948 #BBT\n",
    "final =  30068#BBT\n",
    "\n",
    "shift = current-final\n",
    "shift_direction = 1\n",
    "print(shift)\n",
    "\n",
    "current_age = 400 #age\n",
    "final_age = current_age + shift*shift_direction\n",
    "\n",
    "print(final_age)"
   ]
  },
  {
   "cell_type": "code",
   "execution_count": 15,
   "metadata": {},
   "outputs": [],
   "source": [
    "#civ changes\n",
    "-2492\n",
    "1660.0\n",
    "3603.0\n",
    "2106.0\n",
    "1703.0\n",
    "1058.0\n",
    "823.0"
   ]
  },
  {
   "cell_type": "code",
   "execution_count": 4,
   "metadata": {},
   "outputs": [
    {
     "data": {
      "text/plain": [
       "17222"
      ]
     },
     "execution_count": 4,
     "metadata": {},
     "output_type": "execute_result"
    }
   ],
   "source": [
    "#language changes\n",
    "14556\n",
    "12111\n",
    "13556\n",
    "11444\n",
    "14667\n",
    "17222"
   ]
  },
  {
   "cell_type": "code",
   "execution_count": null,
   "metadata": {},
   "outputs": [],
   "source": []
  }
 ],
 "metadata": {
  "kernelspec": {
   "display_name": "Python 3 (ipykernel)",
   "language": "python",
   "name": "python3"
  },
  "language_info": {
   "codemirror_mode": {
    "name": "ipython",
    "version": 3
   },
   "file_extension": ".py",
   "mimetype": "text/x-python",
   "name": "python",
   "nbconvert_exporter": "python",
   "pygments_lexer": "ipython3",
   "version": "3.8.5"
  }
 },
 "nbformat": 4,
 "nbformat_minor": 4
}
