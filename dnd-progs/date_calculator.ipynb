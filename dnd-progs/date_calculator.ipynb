{
 "cells": [
  {
   "cell_type": "code",
   "execution_count": 1,
   "metadata": {},
   "outputs": [],
   "source": [
    "import numpy as np\n",
    "import matplotlib.pyplot as plt"
   ]
  },
  {
   "cell_type": "code",
   "execution_count": 2,
   "metadata": {},
   "outputs": [],
   "source": [
    "def shift_f(current,shift,shift_direction):\n",
    "    return current + (shift*shift_direction)"
   ]
  },
  {
   "cell_type": "code",
   "execution_count": 3,
   "metadata": {},
   "outputs": [
    {
     "name": "stdout",
     "output_type": "stream",
     "text": [
      "34,108 BBT|\n"
     ]
    }
   ],
   "source": [
    "current = np.array([35294]) #[ BBT year, Current age ]\n",
    "#36928\n",
    "shift_direction = np.array([-1]) #positive 1 for a number that goes up, negative for decreasing date\n",
    "\n",
    "shift = 1186#4351 #how many years to shift\n",
    "age_code = \"YH\"\n",
    "\n",
    "final = shift_f(current,shift,shift_direction)\n",
    "\n",
    "#print( f'{final[0]:,}'+\" BBT|\"+str(final[1])+\" \"+age_code)  \n",
    "print( f'{final[0]:,}'+\" BBT|\")  "
   ]
  },
  {
   "cell_type": "code",
   "execution_count": 4,
   "metadata": {},
   "outputs": [
    {
     "data": {
      "text/plain": [
       "3979"
      ]
     },
     "execution_count": 4,
     "metadata": {},
     "output_type": "execute_result"
    }
   ],
   "source": [
    "9779-5800"
   ]
  },
  {
   "cell_type": "code",
   "execution_count": 5,
   "metadata": {},
   "outputs": [
    {
     "name": "stdout",
     "output_type": "stream",
     "text": [
      "8880\n",
      "9280\n"
     ]
    }
   ],
   "source": [
    "current = 38948 #BBT\n",
    "final =  30068#BBT\n",
    "\n",
    "shift = current-final\n",
    "shift_direction = 1\n",
    "print(shift)\n",
    "\n",
    "current_age = 400 #age\n",
    "final_age = current_age + shift*shift_direction\n",
    "\n",
    "print(final_age)"
   ]
  },
  {
   "cell_type": "code",
   "execution_count": null,
   "metadata": {},
   "outputs": [],
   "source": []
  },
  {
   "cell_type": "markdown",
   "metadata": {},
   "source": [
    "# Civilization Length"
   ]
  },
  {
   "cell_type": "code",
   "execution_count": 6,
   "metadata": {},
   "outputs": [],
   "source": [
    "gen_human = 27\n",
    "gen_astar = 120"
   ]
  },
  {
   "cell_type": "code",
   "execution_count": 7,
   "metadata": {},
   "outputs": [
    {
     "name": "stdout",
     "output_type": "stream",
     "text": [
      "303.78228782287823 345.47763693162267\n"
     ]
    }
   ],
   "source": [
    "#human_empires = [505,405,501,827,800,400,187,157,500,500,46,241,313,322,210,299,250,250,478,400,1000,70,342,220,1000,661,351,298,700,225,1150,404,330,411,244,203,43,144,364,87,66,540,800,200,667,220,461,24,302,265,177,137,249,500,500,90,469,450,14,184,197,156,735,442,120,112,370,1100,45,725,140,525,195,200,70,290,250,90,100,350,30,130,100,240,90,220,70]\n",
    "human_empires = [2000,508,407,220,60,109,610,474,180,790,362,390,148,107,88,125,618,1416,226,63,51,89,93,22,1166,87,933,228,287,698,385,149,61,224,457,506,67,10,394,89,520,279,36,338,237,113,121,275,45,668,286,3,462,210,643,700,252,2129,1678,100,11,23,342,554,274,417,321,93,76,407,565,473,110,113,837,262,11,18,446,43,500,14,71,701,47,940,224,67,705,474,250,193,262,645,262,67,536,230,346,426,292,41,147,280,844,29,317,99,252,186,79,117,464,95,65,79,154,119,327,199,505,330,997,126,195,45,372,382,300,629,30,144,378,133,188,13,315,1620,254,177,57,361,210,75,11,207,234,375,111,267,13,144,221,42,168,269,136,76,250,2,3,276,200,162,232,100,108,143,19,57,267,162,158,450,623,505,448,54,200,424,3,2259,471,226,73,584,170,275,131,90,94,15,268,389,29,229,1962,1123,81,225,206,132,196,241,105,235,135,427,450,180,528,297,249,157,25,42,554,150,223,116,70,99,319,251,496,610,37,551,112,510,18,110,52,289,141,24,657,22,12,87,687,693,156,321,257,626,242,45,915,67,89,177,106,43,99,305,310,1100,600,17,82,216,470,189,14,97,44,790,15,176,79]\n",
    "hea = np.mean(human_empires) #human empire average\n",
    "hes = np.std(human_empires) #std\n",
    "print(hea,hes)\n",
    "\n",
    "#Average civilization is ~300 years for humans\n",
    "civ_len_gen = hea/gen_human\n",
    "civ_len_std = hes/gen_human\n",
    "\n",
    "def get_civ_rand():\n",
    "    civlen = -1\n",
    "    while civlen < 0:\n",
    "        civlen = np.random.normal(loc=civ_len_gen,scale=civ_len_std)\n",
    "    return civlen"
   ]
  },
  {
   "cell_type": "code",
   "execution_count": 8,
   "metadata": {},
   "outputs": [
    {
     "data": {
      "text/plain": [
       "Text(0, 0.5, 'Count, of 1000 civilizations')"
      ]
     },
     "execution_count": 8,
     "metadata": {},
     "output_type": "execute_result"
    },
    {
     "data": {
      "image/png": "[encoded data removed]",
      "text/plain": [
       "<Figure size 432x288 with 1 Axes>"
      ]
     },
     "metadata": {
      "needs_background": "light"
     },
     "output_type": "display_data"
    }
   ],
   "source": [
    "civlenlist = []\n",
    "for i in range(0,100000):\n",
    "    newciv = get_civ_rand()\n",
    "    if newciv > 0:\n",
    "        civlenlist.append(newciv)\n",
    "    \n",
    "plt.hist(civlenlist)\n",
    "plt.xlabel(\"Civilization generation length\")\n",
    "plt.ylabel(\"Count, of 1000 civilizations\")"
   ]
  },
  {
   "cell_type": "code",
   "execution_count": 9,
   "metadata": {},
   "outputs": [
    {
     "name": "stdout",
     "output_type": "stream",
     "text": [
      "1925.0\n",
      "2892.0\n",
      "1396.0\n",
      "1027.0\n",
      "2039.0\n",
      "1329.0\n",
      "2192.0\n",
      "4359.0\n",
      "434.0\n",
      "1917.0\n",
      "2720.0\n",
      "1371.0\n",
      "1101.0\n",
      "3099.0\n",
      "2997.0\n",
      "549.0\n",
      "4045.0\n",
      "3173.0\n",
      "1135.0\n",
      "3177.0\n",
      "1800.0\n",
      "717.0\n",
      "1546.0\n",
      "2384.0\n",
      "400.0\n",
      "314.0\n",
      "2631.0\n",
      "1704.0\n",
      "4618.0\n",
      "2569.0\n",
      "4397.0\n",
      "3500.0\n",
      "2030.0\n",
      "1082.0\n",
      "1603.0\n",
      "106.0\n",
      "1674.0\n",
      "1419.0\n",
      "825.0\n",
      "2705.0\n",
      "3363.0\n",
      "3151.0\n",
      "5002.0\n",
      "4026.0\n",
      "458.0\n",
      "1513.0\n",
      "2490.0\n",
      "228.0\n",
      "988.0\n",
      "4967.0\n",
      "Mean civ length, astar:  2141.74\n"
     ]
    }
   ],
   "source": [
    "#make a list of astar civilization lengths\n",
    "astar_civ_lens = []\n",
    "for civ in range(0,50):\n",
    "    astar_civ_lens.append(np.round(gen_astar*get_civ_rand()))\n",
    "    print(astar_civ_lens[-1])\n",
    "    \n",
    "print(\"Mean civ length, astar: \",np.mean(astar_civ_lens))"
   ]
  },
  {
   "cell_type": "markdown",
   "metadata": {},
   "source": [
    "## Half-astar"
   ]
  },
  {
   "cell_type": "code",
   "execution_count": 10,
   "metadata": {},
   "outputs": [
    {
     "name": "stdout",
     "output_type": "stream",
     "text": [
      "5391.0\n",
      "6294.0\n",
      "6306.0\n",
      "1769.0\n",
      "4109.0\n",
      "4502.0\n",
      "1968.0\n",
      "1475.0\n",
      "4741.0\n",
      "5512.0\n",
      "3811.0\n",
      "4280.0\n",
      "322.0\n",
      "4279.0\n",
      "929.0\n",
      "3950.0\n",
      "7933.0\n",
      "2593.0\n",
      "524.0\n",
      "5982.0\n",
      "4443.0\n",
      "1489.0\n",
      "421.0\n",
      "538.0\n",
      "322.0\n",
      "617.0\n",
      "2694.0\n",
      "2685.0\n",
      "825.0\n",
      "974.0\n",
      "Mean civ length, astar:  3055.9333333333334\n"
     ]
    }
   ],
   "source": [
    "#make a list of astar civilization lengths\n",
    "astar_civ_lens = []\n",
    "for civ in range(0,30):\n",
    "    astar_civ_lens.append(np.round((200)*get_civ_rand()))\n",
    "    print(astar_civ_lens[-1])\n",
    "    \n",
    "print(\"Mean civ length, astar: \",np.mean(astar_civ_lens))"
   ]
  },
  {
   "cell_type": "code",
   "execution_count": 11,
   "metadata": {},
   "outputs": [
    {
     "ename": "NameError",
     "evalue": "name 'gen_waith' is not defined",
     "output_type": "error",
     "traceback": [
      "\u001b[0;31m---------------------------------------------------------------------------\u001b[0m",
      "\u001b[0;31mNameError\u001b[0m                                 Traceback (most recent call last)",
      "\u001b[0;32m<ipython-input-11-f0dc73e4cae5>\u001b[0m in \u001b[0;36m<module>\u001b[0;34m\u001b[0m\n\u001b[1;32m      2\u001b[0m \u001b[0mwaith_civ_lens\u001b[0m \u001b[0;34m=\u001b[0m \u001b[0;34m[\u001b[0m\u001b[0;34m]\u001b[0m\u001b[0;34m\u001b[0m\u001b[0;34m\u001b[0m\u001b[0m\n\u001b[1;32m      3\u001b[0m \u001b[0;32mfor\u001b[0m \u001b[0mciv\u001b[0m \u001b[0;32min\u001b[0m \u001b[0mrange\u001b[0m\u001b[0;34m(\u001b[0m\u001b[0;36m0\u001b[0m\u001b[0;34m,\u001b[0m\u001b[0;36m30\u001b[0m\u001b[0;34m)\u001b[0m\u001b[0;34m:\u001b[0m\u001b[0;34m\u001b[0m\u001b[0;34m\u001b[0m\u001b[0m\n\u001b[0;32m----> 4\u001b[0;31m     \u001b[0mwaith_civ_lens\u001b[0m\u001b[0;34m.\u001b[0m\u001b[0mappend\u001b[0m\u001b[0;34m(\u001b[0m\u001b[0mround\u001b[0m\u001b[0;34m(\u001b[0m\u001b[0mgen_waith\u001b[0m\u001b[0;34m*\u001b[0m\u001b[0mget_civ_rand\u001b[0m\u001b[0;34m(\u001b[0m\u001b[0;34m)\u001b[0m\u001b[0;34m)\u001b[0m\u001b[0;34m)\u001b[0m\u001b[0;34m\u001b[0m\u001b[0;34m\u001b[0m\u001b[0m\n\u001b[0m\u001b[1;32m      5\u001b[0m     \u001b[0mprint\u001b[0m\u001b[0;34m(\u001b[0m\u001b[0mwaith_civ_lens\u001b[0m\u001b[0;34m[\u001b[0m\u001b[0;34m-\u001b[0m\u001b[0;36m1\u001b[0m\u001b[0;34m]\u001b[0m\u001b[0;34m)\u001b[0m\u001b[0;34m\u001b[0m\u001b[0;34m\u001b[0m\u001b[0m\n\u001b[1;32m      6\u001b[0m \u001b[0;34m\u001b[0m\u001b[0m\n",
      "\u001b[0;31mNameError\u001b[0m: name 'gen_waith' is not defined"
     ]
    }
   ],
   "source": [
    "#make a list of waith civilization lengths\n",
    "waith_civ_lens = []\n",
    "for civ in range(0,30):\n",
    "    waith_civ_lens.append(round(gen_waith*get_civ_rand()))\n",
    "    print(waith_civ_lens[-1])\n",
    "    \n",
    "print(\"Mean civ length, waith: \",np.mean(waith_civ_lens))"
   ]
  },
  {
   "cell_type": "markdown",
   "metadata": {},
   "source": [
    "# Languages"
   ]
  },
  {
   "cell_type": "code",
   "execution_count": 12,
   "metadata": {},
   "outputs": [],
   "source": [
    "##Languages tend to become incomprehensible after being isolated for 500-1000 years\n",
    "def get_lang_change(gen_i):\n",
    "    human_change_len = 500+10*(random.randint(1,300)/2)\n",
    "    gen_num = human_change_len/((gen_human+60)/2)\n",
    "    return gen_i * gen_num"
   ]
  },
  {
   "cell_type": "markdown",
   "metadata": {},
   "source": [
    "# Waith Languages"
   ]
  },
  {
   "cell_type": "code",
   "execution_count": 13,
   "metadata": {},
   "outputs": [
    {
     "ename": "NameError",
     "evalue": "name 'random' is not defined",
     "output_type": "error",
     "traceback": [
      "\u001b[0;31m---------------------------------------------------------------------------\u001b[0m",
      "\u001b[0;31mNameError\u001b[0m                                 Traceback (most recent call last)",
      "\u001b[0;32m<ipython-input-13-4d45b0486a0c>\u001b[0m in \u001b[0;36m<module>\u001b[0;34m\u001b[0m\n\u001b[1;32m      1\u001b[0m \u001b[0mgen_waith_effective\u001b[0m \u001b[0;34m=\u001b[0m \u001b[0;34m(\u001b[0m\u001b[0;36m18000\u001b[0m\u001b[0;34m+\u001b[0m\u001b[0;36m2000\u001b[0m\u001b[0;34m)\u001b[0m\u001b[0;34m/\u001b[0m\u001b[0;36m2\u001b[0m\u001b[0;34m\u001b[0m\u001b[0;34m\u001b[0m\u001b[0m\n\u001b[1;32m      2\u001b[0m \u001b[0;32mfor\u001b[0m \u001b[0mciv\u001b[0m \u001b[0;32min\u001b[0m \u001b[0mrange\u001b[0m\u001b[0;34m(\u001b[0m\u001b[0;36m0\u001b[0m\u001b[0;34m,\u001b[0m\u001b[0;36m30\u001b[0m\u001b[0;34m)\u001b[0m\u001b[0;34m:\u001b[0m\u001b[0;34m\u001b[0m\u001b[0;34m\u001b[0m\u001b[0m\n\u001b[0;32m----> 3\u001b[0;31m     \u001b[0mprint\u001b[0m\u001b[0;34m(\u001b[0m\u001b[0mround\u001b[0m\u001b[0;34m(\u001b[0m\u001b[0mget_lang_change\u001b[0m\u001b[0;34m(\u001b[0m\u001b[0mgen_waith_effective\u001b[0m\u001b[0;34m)\u001b[0m\u001b[0;34m)\u001b[0m\u001b[0;34m)\u001b[0m\u001b[0;34m\u001b[0m\u001b[0;34m\u001b[0m\u001b[0m\n\u001b[0m",
      "\u001b[0;32m<ipython-input-12-6aa721a3642a>\u001b[0m in \u001b[0;36mget_lang_change\u001b[0;34m(gen_i)\u001b[0m\n\u001b[1;32m      1\u001b[0m \u001b[0;31m##Languages tend to become incomprehensible after being isolated for 500-1000 years\u001b[0m\u001b[0;34m\u001b[0m\u001b[0;34m\u001b[0m\u001b[0;34m\u001b[0m\u001b[0m\n\u001b[1;32m      2\u001b[0m \u001b[0;32mdef\u001b[0m \u001b[0mget_lang_change\u001b[0m\u001b[0;34m(\u001b[0m\u001b[0mgen_i\u001b[0m\u001b[0;34m)\u001b[0m\u001b[0;34m:\u001b[0m\u001b[0;34m\u001b[0m\u001b[0;34m\u001b[0m\u001b[0m\n\u001b[0;32m----> 3\u001b[0;31m     \u001b[0mhuman_change_len\u001b[0m \u001b[0;34m=\u001b[0m \u001b[0;36m500\u001b[0m\u001b[0;34m+\u001b[0m\u001b[0;36m10\u001b[0m\u001b[0;34m*\u001b[0m\u001b[0;34m(\u001b[0m\u001b[0mrandom\u001b[0m\u001b[0;34m.\u001b[0m\u001b[0mrandint\u001b[0m\u001b[0;34m(\u001b[0m\u001b[0;36m1\u001b[0m\u001b[0;34m,\u001b[0m\u001b[0;36m300\u001b[0m\u001b[0;34m)\u001b[0m\u001b[0;34m/\u001b[0m\u001b[0;36m2\u001b[0m\u001b[0;34m)\u001b[0m\u001b[0;34m\u001b[0m\u001b[0;34m\u001b[0m\u001b[0m\n\u001b[0m\u001b[1;32m      4\u001b[0m     \u001b[0mgen_num\u001b[0m \u001b[0;34m=\u001b[0m \u001b[0mhuman_change_len\u001b[0m\u001b[0;34m/\u001b[0m\u001b[0;34m(\u001b[0m\u001b[0;34m(\u001b[0m\u001b[0mgen_human\u001b[0m\u001b[0;34m+\u001b[0m\u001b[0;36m60\u001b[0m\u001b[0;34m)\u001b[0m\u001b[0;34m/\u001b[0m\u001b[0;36m2\u001b[0m\u001b[0;34m)\u001b[0m\u001b[0;34m\u001b[0m\u001b[0;34m\u001b[0m\u001b[0m\n\u001b[1;32m      5\u001b[0m     \u001b[0;32mreturn\u001b[0m \u001b[0mgen_i\u001b[0m \u001b[0;34m*\u001b[0m \u001b[0mgen_num\u001b[0m\u001b[0;34m\u001b[0m\u001b[0;34m\u001b[0m\u001b[0m\n",
      "\u001b[0;31mNameError\u001b[0m: name 'random' is not defined"
     ]
    }
   ],
   "source": [
    "gen_waith_effective = (18000+2000)/2\n",
    "for civ in range(0,30):\n",
    "    print(round(get_lang_change(gen_waith_effective)))"
   ]
  },
  {
   "cell_type": "markdown",
   "metadata": {},
   "source": [
    "# Astar languages"
   ]
  },
  {
   "cell_type": "code",
   "execution_count": 14,
   "metadata": {},
   "outputs": [
    {
     "ename": "NameError",
     "evalue": "name 'random' is not defined",
     "output_type": "error",
     "traceback": [
      "\u001b[0;31m---------------------------------------------------------------------------\u001b[0m",
      "\u001b[0;31mNameError\u001b[0m                                 Traceback (most recent call last)",
      "\u001b[0;32m<ipython-input-14-4191d044c2d2>\u001b[0m in \u001b[0;36m<module>\u001b[0;34m\u001b[0m\n\u001b[1;32m      1\u001b[0m \u001b[0mgen_astar_effective\u001b[0m \u001b[0;34m=\u001b[0m \u001b[0;34m(\u001b[0m\u001b[0;36m600\u001b[0m\u001b[0;34m+\u001b[0m\u001b[0;36m120\u001b[0m\u001b[0;34m)\u001b[0m\u001b[0;34m/\u001b[0m\u001b[0;36m2\u001b[0m\u001b[0;34m\u001b[0m\u001b[0;34m\u001b[0m\u001b[0m\n\u001b[1;32m      2\u001b[0m \u001b[0;32mfor\u001b[0m \u001b[0mciv\u001b[0m \u001b[0;32min\u001b[0m \u001b[0mrange\u001b[0m\u001b[0;34m(\u001b[0m\u001b[0;36m0\u001b[0m\u001b[0;34m,\u001b[0m\u001b[0;36m30\u001b[0m\u001b[0;34m)\u001b[0m\u001b[0;34m:\u001b[0m\u001b[0;34m\u001b[0m\u001b[0;34m\u001b[0m\u001b[0m\n\u001b[0;32m----> 3\u001b[0;31m     \u001b[0mprint\u001b[0m\u001b[0;34m(\u001b[0m\u001b[0mround\u001b[0m\u001b[0;34m(\u001b[0m\u001b[0mget_lang_change\u001b[0m\u001b[0;34m(\u001b[0m\u001b[0mgen_astar_effective\u001b[0m\u001b[0;34m)\u001b[0m\u001b[0;34m)\u001b[0m\u001b[0;34m)\u001b[0m\u001b[0;34m\u001b[0m\u001b[0;34m\u001b[0m\u001b[0m\n\u001b[0m",
      "\u001b[0;32m<ipython-input-12-6aa721a3642a>\u001b[0m in \u001b[0;36mget_lang_change\u001b[0;34m(gen_i)\u001b[0m\n\u001b[1;32m      1\u001b[0m \u001b[0;31m##Languages tend to become incomprehensible after being isolated for 500-1000 years\u001b[0m\u001b[0;34m\u001b[0m\u001b[0;34m\u001b[0m\u001b[0;34m\u001b[0m\u001b[0m\n\u001b[1;32m      2\u001b[0m \u001b[0;32mdef\u001b[0m \u001b[0mget_lang_change\u001b[0m\u001b[0;34m(\u001b[0m\u001b[0mgen_i\u001b[0m\u001b[0;34m)\u001b[0m\u001b[0;34m:\u001b[0m\u001b[0;34m\u001b[0m\u001b[0;34m\u001b[0m\u001b[0m\n\u001b[0;32m----> 3\u001b[0;31m     \u001b[0mhuman_change_len\u001b[0m \u001b[0;34m=\u001b[0m \u001b[0;36m500\u001b[0m\u001b[0;34m+\u001b[0m\u001b[0;36m10\u001b[0m\u001b[0;34m*\u001b[0m\u001b[0;34m(\u001b[0m\u001b[0mrandom\u001b[0m\u001b[0;34m.\u001b[0m\u001b[0mrandint\u001b[0m\u001b[0;34m(\u001b[0m\u001b[0;36m1\u001b[0m\u001b[0;34m,\u001b[0m\u001b[0;36m300\u001b[0m\u001b[0;34m)\u001b[0m\u001b[0;34m/\u001b[0m\u001b[0;36m2\u001b[0m\u001b[0;34m)\u001b[0m\u001b[0;34m\u001b[0m\u001b[0;34m\u001b[0m\u001b[0m\n\u001b[0m\u001b[1;32m      4\u001b[0m     \u001b[0mgen_num\u001b[0m \u001b[0;34m=\u001b[0m \u001b[0mhuman_change_len\u001b[0m\u001b[0;34m/\u001b[0m\u001b[0;34m(\u001b[0m\u001b[0;34m(\u001b[0m\u001b[0mgen_human\u001b[0m\u001b[0;34m+\u001b[0m\u001b[0;36m60\u001b[0m\u001b[0;34m)\u001b[0m\u001b[0;34m/\u001b[0m\u001b[0;36m2\u001b[0m\u001b[0;34m)\u001b[0m\u001b[0;34m\u001b[0m\u001b[0;34m\u001b[0m\u001b[0m\n\u001b[1;32m      5\u001b[0m     \u001b[0;32mreturn\u001b[0m \u001b[0mgen_i\u001b[0m \u001b[0;34m*\u001b[0m \u001b[0mgen_num\u001b[0m\u001b[0;34m\u001b[0m\u001b[0;34m\u001b[0m\u001b[0m\n",
      "\u001b[0;31mNameError\u001b[0m: name 'random' is not defined"
     ]
    }
   ],
   "source": [
    "gen_astar_effective = (600+120)/2\n",
    "for civ in range(0,30):\n",
    "    print(round(get_lang_change(gen_astar_effective)))"
   ]
  },
  {
   "cell_type": "code",
   "execution_count": 15,
   "metadata": {},
   "outputs": [
    {
     "ename": "NameError",
     "evalue": "name 'random' is not defined",
     "output_type": "error",
     "traceback": [
      "\u001b[0;31m---------------------------------------------------------------------------\u001b[0m",
      "\u001b[0;31mNameError\u001b[0m                                 Traceback (most recent call last)",
      "\u001b[0;32m<ipython-input-15-7ec497397d72>\u001b[0m in \u001b[0;36m<module>\u001b[0;34m\u001b[0m\n\u001b[1;32m      1\u001b[0m \u001b[0mgen_astar_effective\u001b[0m \u001b[0;34m=\u001b[0m \u001b[0;34m(\u001b[0m\u001b[0;36m800\u001b[0m\u001b[0;34m+\u001b[0m\u001b[0;36m200\u001b[0m\u001b[0;34m)\u001b[0m\u001b[0;34m/\u001b[0m\u001b[0;36m2\u001b[0m\u001b[0;34m\u001b[0m\u001b[0;34m\u001b[0m\u001b[0m\n\u001b[1;32m      2\u001b[0m \u001b[0;32mfor\u001b[0m \u001b[0mciv\u001b[0m \u001b[0;32min\u001b[0m \u001b[0mrange\u001b[0m\u001b[0;34m(\u001b[0m\u001b[0;36m0\u001b[0m\u001b[0;34m,\u001b[0m\u001b[0;36m30\u001b[0m\u001b[0;34m)\u001b[0m\u001b[0;34m:\u001b[0m\u001b[0;34m\u001b[0m\u001b[0;34m\u001b[0m\u001b[0m\n\u001b[0;32m----> 3\u001b[0;31m     \u001b[0mprint\u001b[0m\u001b[0;34m(\u001b[0m\u001b[0mround\u001b[0m\u001b[0;34m(\u001b[0m\u001b[0mget_lang_change\u001b[0m\u001b[0;34m(\u001b[0m\u001b[0mgen_astar_effective\u001b[0m\u001b[0;34m)\u001b[0m\u001b[0;34m)\u001b[0m\u001b[0;34m)\u001b[0m\u001b[0;34m\u001b[0m\u001b[0;34m\u001b[0m\u001b[0m\n\u001b[0m",
      "\u001b[0;32m<ipython-input-12-6aa721a3642a>\u001b[0m in \u001b[0;36mget_lang_change\u001b[0;34m(gen_i)\u001b[0m\n\u001b[1;32m      1\u001b[0m \u001b[0;31m##Languages tend to become incomprehensible after being isolated for 500-1000 years\u001b[0m\u001b[0;34m\u001b[0m\u001b[0;34m\u001b[0m\u001b[0;34m\u001b[0m\u001b[0m\n\u001b[1;32m      2\u001b[0m \u001b[0;32mdef\u001b[0m \u001b[0mget_lang_change\u001b[0m\u001b[0;34m(\u001b[0m\u001b[0mgen_i\u001b[0m\u001b[0;34m)\u001b[0m\u001b[0;34m:\u001b[0m\u001b[0;34m\u001b[0m\u001b[0;34m\u001b[0m\u001b[0m\n\u001b[0;32m----> 3\u001b[0;31m     \u001b[0mhuman_change_len\u001b[0m \u001b[0;34m=\u001b[0m \u001b[0;36m500\u001b[0m\u001b[0;34m+\u001b[0m\u001b[0;36m10\u001b[0m\u001b[0;34m*\u001b[0m\u001b[0;34m(\u001b[0m\u001b[0mrandom\u001b[0m\u001b[0;34m.\u001b[0m\u001b[0mrandint\u001b[0m\u001b[0;34m(\u001b[0m\u001b[0;36m1\u001b[0m\u001b[0;34m,\u001b[0m\u001b[0;36m300\u001b[0m\u001b[0;34m)\u001b[0m\u001b[0;34m/\u001b[0m\u001b[0;36m2\u001b[0m\u001b[0;34m)\u001b[0m\u001b[0;34m\u001b[0m\u001b[0;34m\u001b[0m\u001b[0m\n\u001b[0m\u001b[1;32m      4\u001b[0m     \u001b[0mgen_num\u001b[0m \u001b[0;34m=\u001b[0m \u001b[0mhuman_change_len\u001b[0m\u001b[0;34m/\u001b[0m\u001b[0;34m(\u001b[0m\u001b[0;34m(\u001b[0m\u001b[0mgen_human\u001b[0m\u001b[0;34m+\u001b[0m\u001b[0;36m60\u001b[0m\u001b[0;34m)\u001b[0m\u001b[0;34m/\u001b[0m\u001b[0;36m2\u001b[0m\u001b[0;34m)\u001b[0m\u001b[0;34m\u001b[0m\u001b[0;34m\u001b[0m\u001b[0m\n\u001b[1;32m      5\u001b[0m     \u001b[0;32mreturn\u001b[0m \u001b[0mgen_i\u001b[0m \u001b[0;34m*\u001b[0m \u001b[0mgen_num\u001b[0m\u001b[0;34m\u001b[0m\u001b[0;34m\u001b[0m\u001b[0m\n",
      "\u001b[0;31mNameError\u001b[0m: name 'random' is not defined"
     ]
    }
   ],
   "source": [
    "gen_astar_effective = (800+200)/2\n",
    "for civ in range(0,30):\n",
    "    print(round(get_lang_change(gen_astar_effective)))"
   ]
  },
  {
   "cell_type": "code",
   "execution_count": 16,
   "metadata": {},
   "outputs": [],
   "source": [
    "##Ancient cities tended to vary in their population over generations.\n",
    "##Eridu was settled around 5400 or 5000 BCE and grew to its largest extent by 2900 BCE. It was abandoned by 2000 BCE.\n",
    "##Eridu represents one of the earliest cities to be settled and to grow to importance.\n",
    "##Let's use Eridu as a model for the rise of the earliest cities.\n",
    "def get_ancient_city_len(gen):\n",
    "    comp_rise = 5200 - 2900\n",
    "    comp_fall = 900\n",
    "    gen_rise = comp_rise/gen_human\n",
    "    gen_fall = comp_fall/gen_human\n",
    "    risefall = [gen_rise,gen_fall]\n",
    "    return [gen*gen_rise,gen*gen_fall]"
   ]
  },
  {
   "cell_type": "code",
   "execution_count": 17,
   "metadata": {},
   "outputs": [
    {
     "data": {
      "text/plain": [
       "[10222.222222222223, 4000.0000000000005]"
      ]
     },
     "execution_count": 17,
     "metadata": {},
     "output_type": "execute_result"
    }
   ],
   "source": [
    "get_ancient_city_len(gen_astar)"
   ]
  },
  {
   "cell_type": "code",
   "execution_count": 18,
   "metadata": {},
   "outputs": [],
   "source": [
    "#Ur is founded in 3800 BC, reaches its peak around 2000 BC, abandoned by 500 BC.\n",
    "def get_ancient_city_len_UR(gen):\n",
    "    comp_rise = 3800 - 2000\n",
    "    comp_fall = 2000 - 500\n",
    "    gen_rise = comp_rise/gen_human\n",
    "    gen_fall = comp_fall/gen_human\n",
    "    risefall = [gen_rise,gen_fall]\n",
    "    return [gen*gen_rise,gen*gen_fall]"
   ]
  },
  {
   "cell_type": "code",
   "execution_count": 19,
   "metadata": {},
   "outputs": [
    {
     "data": {
      "text/plain": [
       "[8000.000000000001, 6666.666666666667]"
      ]
     },
     "execution_count": 19,
     "metadata": {},
     "output_type": "execute_result"
    }
   ],
   "source": [
    "get_ancient_city_len_UR(gen_astar)"
   ]
  },
  {
   "cell_type": "code",
   "execution_count": 20,
   "metadata": {},
   "outputs": [
    {
     "data": {
      "text/plain": [
       "34000"
      ]
     },
     "execution_count": 20,
     "metadata": {},
     "output_type": "execute_result"
    }
   ],
   "source": [
    "49000-15000"
   ]
  },
  {
   "cell_type": "code",
   "execution_count": 21,
   "metadata": {},
   "outputs": [
    {
     "data": {
      "text/plain": [
       "(array([4., 0., 2., 1., 4., 4., 3., 0., 0., 4., 2., 2., 1., 1., 0., 1.]),\n",
       " array([ 2.   ,  2.875,  3.75 ,  4.625,  5.5  ,  6.375,  7.25 ,  8.125,\n",
       "         9.   ,  9.875, 10.75 , 11.625, 12.5  , 13.375, 14.25 , 15.125,\n",
       "        16.   ]),\n",
       " <BarContainer object of 16 artists>)"
      ]
     },
     "execution_count": 21,
     "metadata": {},
     "output_type": "execute_result"
    },
    {
     "data": {
      "image/png": "[encoded data removed]",
      "text/plain": [
       "<Figure size 432x288 with 1 Axes>"
      ]
     },
     "metadata": {
      "needs_background": "light"
     },
     "output_type": "display_data"
    }
   ],
   "source": [
    "festlist = [7,8,4,2,6,13,2,7,6,10,11,16,2,4,6,7,8,10,12,14,7,2,5,6,8,10,10,11,12]\n",
    "#1,3,9,15\n",
    "plt.hist(festlist, bins=16)"
   ]
  },
  {
   "cell_type": "code",
   "execution_count": null,
   "metadata": {},
   "outputs": [],
   "source": []
  },
  {
   "cell_type": "code",
   "execution_count": 22,
   "metadata": {},
   "outputs": [
    {
     "data": {
      "text/plain": [
       "<BarContainer object of 16 artists>"
      ]
     },
     "execution_count": 22,
     "metadata": {},
     "output_type": "execute_result"
    },
    {
     "data": {
      "image/png": "[encoded data removed]",
      "text/plain": [
       "<Figure size 432x288 with 1 Axes>"
      ]
     },
     "metadata": {
      "needs_background": "light"
     },
     "output_type": "display_data"
    }
   ],
   "source": [
    "counts, bins = np.histogram(festlist,bins=np.linspace(1,17,17))\n",
    "plt.bar(np.linspace(1,16,16),list(counts))"
   ]
  },
  {
   "cell_type": "code",
   "execution_count": null,
   "metadata": {},
   "outputs": [],
   "source": []
  },
  {
   "cell_type": "markdown",
   "metadata": {},
   "source": [
    "## Astar lifespan randomness"
   ]
  },
  {
   "cell_type": "code",
   "execution_count": 26,
   "metadata": {},
   "outputs": [],
   "source": [
    "def get_life_rand(len_gen,len_std):\n",
    "    civlen = -1\n",
    "    while civlen < 0:\n",
    "        civlen = np.random.normal(loc=len_gen,scale=len_std)\n",
    "    return civlen"
   ]
  },
  {
   "cell_type": "code",
   "execution_count": 31,
   "metadata": {},
   "outputs": [
    {
     "name": "stdout",
     "output_type": "stream",
     "text": [
      "Mean life length, astar:  354.22\n"
     ]
    },
    {
     "data": {
      "text/plain": [
       "Text(0, 0.5, 'Count, of 1000 civilizations')"
      ]
     },
     "execution_count": 31,
     "metadata": {},
     "output_type": "execute_result"
    },
    {
     "data": {
      "image/png": "[encoded data removed]",
      "text/plain": [
       "<Figure size 432x288 with 1 Axes>"
      ]
     },
     "metadata": {
      "needs_background": "light"
     },
     "output_type": "display_data"
    }
   ],
   "source": [
    "get_life_rand(3,2)\n",
    "\n",
    "astar_life_lens = []\n",
    "for civ in range(0,50):\n",
    "    astar_life_lens.append(np.round(gen_astar*get_life_rand(3,2)))\n",
    "#      print(astar_life_lens[-1])\n",
    "    \n",
    "print(\"Mean life length, astar: \",np.mean(astar_life_lens))\n",
    "\n",
    "lifelenlist = []\n",
    "for i in range(0,100000):\n",
    "    newlife = get_life_rand(4,2)\n",
    "    if newlife > 0:\n",
    "        lifelenlist.append(newlife)\n",
    "    \n",
    "plt.hist(lifelenlist)\n",
    "plt.xlabel(\"Civilization generation length\")\n",
    "plt.ylabel(\"Count, of 1000 civilizations\")"
   ]
  },
  {
   "cell_type": "code",
   "execution_count": null,
   "metadata": {},
   "outputs": [],
   "source": [
    "14813"
   ]
  },
  {
   "cell_type": "code",
   "execution_count": 134,
   "metadata": {},
   "outputs": [
    {
     "name": "stdout",
     "output_type": "stream",
     "text": [
      "14687 430.0 14257.0\n",
      "1313 1743.0\n"
     ]
    }
   ],
   "source": [
    "birth = 14932-245 #220\n",
    "lfspan = astar_life_lens[29] #1\n",
    "curryear = 14122\n",
    "\n",
    "birth_stamp = 20000-birth-4000\n",
    "death_stamp = 20000-birth+lfspan-4000\n",
    "print(birth, lfspan, birth-lfspan)\n",
    "if birth-lfspan < curryear:\n",
    "    print(\"Current age: \",birth-curryear)\n",
    "print(birth_stamp,death_stamp)"
   ]
  },
  {
   "cell_type": "code",
   "execution_count": 24,
   "metadata": {},
   "outputs": [
    {
     "data": {
      "text/plain": [
       "1318"
      ]
     },
     "execution_count": 24,
     "metadata": {},
     "output_type": "execute_result"
    }
   ],
   "source": [
    "20000-14682-4000"
   ]
  },
  {
   "cell_type": "markdown",
   "metadata": {},
   "source": [
    "## Renown"
   ]
  },
  {
   "cell_type": "code",
   "execution_count": 3,
   "metadata": {},
   "outputs": [],
   "source": [
    "#Each renown point takes 10*current-renown-num of days to reach\n",
    "#So:\n",
    "#to calculate, via the number of days spent and the current renown, we could do this:\n",
    "\n",
    "#Get library of number of days to next renown point:\n",
    "renown_list = np.arange(0,51)\n",
    "days_to_reach = []\n",
    "days_to_reach.append(0)\n",
    "days_to_reach.append(1)\n",
    "days_to_reach_total = []\n",
    "days_to_reach_total.append(0)\n",
    "days_to_reach_total.append(1)\n",
    "\n",
    "for rn in range(2,len(renown_list)):\n",
    "    days_to_reach.append(10*renown_list[rn-1])\n",
    "    days_to_reach_total.append(sum(days_to_reach))"
   ]
  },
  {
   "cell_type": "code",
   "execution_count": 4,
   "metadata": {},
   "outputs": [
    {
     "data": {
      "text/plain": [
       "[<matplotlib.lines.Line2D at 0x7f0478f4c6a0>]"
      ]
     },
     "execution_count": 4,
     "metadata": {},
     "output_type": "execute_result"
    },
    {
     "data": {
      "image/png": "[encoded data removed]",
      "text/plain": [
       "<Figure size 432x288 with 1 Axes>"
      ]
     },
     "metadata": {
      "needs_background": "light"
     },
     "output_type": "display_data"
    }
   ],
   "source": [
    "plt.plot(days_to_reach_total,renown_list)"
   ]
  },
  {
   "cell_type": "code",
   "execution_count": 22,
   "metadata": {},
   "outputs": [],
   "source": [
    "renown_granular = np.linspace(0,50,501)\n",
    "days_to_reach_total_interp = np.interp(renown_granular,renown_list,np.array(days_to_reach_total))"
   ]
  },
  {
   "cell_type": "code",
   "execution_count": 46,
   "metadata": {},
   "outputs": [
    {
     "name": "stdout",
     "output_type": "stream",
     "text": [
      "7.2\n"
     ]
    }
   ],
   "source": [
    "current_renown = 0\n",
    "\n",
    "current_total_days = days_to_reach_total_interp[int(current_renown*10)]\n",
    "new_days = 231\n",
    "\n",
    "from bisect import bisect\n",
    "new_total_days = current_total_days+new_days\n",
    "\n",
    "new_renown = renown_granular[(bisect(days_to_reach_total_interp, new_total_days)-1)]\n",
    "print(new_renown)"
   ]
  },
  {
   "cell_type": "code",
   "execution_count": null,
   "metadata": {},
   "outputs": [],
   "source": []
  }
 ],
 "metadata": {
  "kernelspec": {
   "display_name": "Python 3",
   "language": "python",
   "name": "python3"
  },
  "language_info": {
   "codemirror_mode": {
    "name": "ipython",
    "version": 3
   },
   "file_extension": ".py",
   "mimetype": "text/x-python",
   "name": "python",
   "nbconvert_exporter": "python",
   "pygments_lexer": "ipython3",
   "version": "3.8.2"
  }
 },
 "nbformat": 4,
 "nbformat_minor": 4
}
