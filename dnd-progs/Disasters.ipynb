{
 "cells": [
  {
   "cell_type": "code",
   "execution_count": 1,
   "metadata": {},
   "outputs": [],
   "source": [
    "import numpy as  np\n",
    "import random as rand\n",
    "import matplotlib.pyplot as plt"
   ]
  },
  {
   "cell_type": "code",
   "execution_count": 1,
   "metadata": {},
   "outputs": [],
   "source": [
    "#Volcanic eruptions:\n",
    "#VEI 7: 1-2 every thousand years\n",
    "#VEI 8: 1 every 50,000 years\n",
    "\n",
    "#New\n",
    "#VEI 7: low: 1 every 800 years\n",
    "#high: 1 every 50,000 years\n",
    "\n",
    "#VEI 8: low: 1 every 150,000 years\n",
    "#med: (Toba level) 1 every 300,000 years\n",
    "#high: (larger than Toba) 1 every 1 million years\n",
    "\n",
    "#Earthquakes:\n",
    "#M9: 1-3 every 100 years"
   ]
  },
  {
   "cell_type": "code",
   "execution_count": 7,
   "metadata": {},
   "outputs": [
    {
     "name": "stdout",
     "output_type": "stream",
     "text": [
      "average gap in VEI8 explosions:  52744.37562859383\n",
      "VEI8 explosion years:  [98542.84988729295, 74796.43195689449, -17711.077021727644, -99172.65786442389, -112434.65262708238]\n"
     ]
    }
   ],
   "source": [
    "year_of_previous = 100000\n",
    "explosions = []\n",
    "seasons = []\n",
    "for explosion in range(0,5):\n",
    "    \n",
    "    vei8 = rand.random()*1e5\n",
    "    decimal = np.round(vei8 - np.round(vei8,0),2)\n",
    "\n",
    "    year_of_vei8 = year_of_previous - vei8\n",
    "    #print(\"Year of VEI8 explosion: \",year_of_vei8)\n",
    "    explosions.append(year_of_vei8)\n",
    "    seasons.append(decimal)\n",
    "    \n",
    "    year_of_previous = year_of_vei8\n",
    "\n",
    "average_gap = np.mean( np.abs(np.diff(explosions)) )\n",
    "print(\"average gap in VEI8 explosions: \",average_gap)\n",
    "print(\"VEI8 explosion years: \",explosions)\n",
    "\n",
    "# sort_diff = np.sort(np.abs(np.diff(explosions))) \n",
    "# plt.figure()\n",
    "# plt.hist(sort_diff)"
   ]
  },
  {
   "cell_type": "code",
   "execution_count": null,
   "metadata": {},
   "outputs": [],
   "source": []
  },
  {
   "cell_type": "code",
   "execution_count": null,
   "metadata": {},
   "outputs": [],
   "source": []
  }
 ],
 "metadata": {
  "kernelspec": {
   "display_name": "Python 3 (ipykernel)",
   "language": "python",
   "name": "python3"
  },
  "language_info": {
   "codemirror_mode": {
    "name": "ipython",
    "version": 3
   },
   "file_extension": ".py",
   "mimetype": "text/x-python",
   "name": "python",
   "nbconvert_exporter": "python",
   "pygments_lexer": "ipython3",
   "version": "3.8.5"
  }
 },
 "nbformat": 4,
 "nbformat_minor": 4
}
