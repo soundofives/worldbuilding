{
 "cells": [
  {
   "cell_type": "code",
   "execution_count": 1,
   "metadata": {},
   "outputs": [],
   "source": [
    "import numpy as np\n",
    "import matplotlib.pyplot as plt\n",
    "import sympy as sym\n",
    "from tqdm import tqdm\n",
    "from scipy.optimize import curve_fit #used for curve fitting\n",
    "import random\n",
    "import math"
   ]
  },
  {
   "cell_type": "code",
   "execution_count": 2,
   "metadata": {},
   "outputs": [],
   "source": [
    "f = lambda rho_g,rho_f,phi: (1-phi)*rho_g + (phi)*rho_f\n"
   ]
  },
  {
   "cell_type": "code",
   "execution_count": 3,
   "metadata": {},
   "outputs": [
    {
     "data": {
      "text/plain": [
       "[2000.2, 3267.01]"
      ]
     },
     "execution_count": 3,
     "metadata": {},
     "output_type": "execute_result"
    }
   ],
   "source": [
    "phi =  np.array([0.35,0.05,0.35,0.25,0.25,0.1,0.0001]);\n",
    "phi = np.array([0.2,0.01])\n",
    "\n",
    "rho_g = np.array([2500,3500,2900,3100,2900,3100,3300]);\n",
    "rho_g = np.array([2500,3300])\n",
    "rho_f = np.array([0.00002,0.00002,0.00002,0.00002,1,1,1])*1e3;# %kg/m3. density of pore fluid\n",
    "rho_f = np.array([1,1])\n",
    "bulk = []\n",
    "\n",
    "for i in range(0,len(phi)):\n",
    "    bulk.append(f(rho_g[i],rho_f[i],phi[i]))\n",
    "bulk"
   ]
  },
  {
   "cell_type": "code",
   "execution_count": 2,
   "metadata": {},
   "outputs": [],
   "source": [
    "def hex_to_area(hex_num):\n",
    "    hex_width = 40 #hex width in km\n",
    "    hex_area = (hex_width*0.9306049)**2\n",
    "    return hex_area*hex_num\n",
    "def area_to_hex(area):\n",
    "    hex_width = 40 #hex width in km\n",
    "    hex_area = (hex_width*0.9306049)**2\n",
    "    hex_num = area/hex_area\n",
    "    return hex_num"
   ]
  },
  {
   "cell_type": "code",
   "execution_count": 3,
   "metadata": {},
   "outputs": [],
   "source": [
    "def area_by_pop(pop_total,pop_rho):\n",
    "    #Method 1: Use the total population to find the region's area\n",
    "    region_area = pop_total/pop_rho #in kilometers\n",
    "    \n",
    "    hex_num = area_to_hex(region_area)\n",
    "    print(\"Total population of the region: \",pop_total)\n",
    "    print(\"Total area of the region: \",np.round(region_area,2),\"sq km or\",'{:e}'.format(region_area) ,\"; in hexes: \",hex_num)\n",
    "    #print(\"Total area of the region, square km: \",region_area_km,\" or \",'{:e}'.format(region_area_km))\n",
    "    print(\"Total area of the region, square Mm: \",np.round(region_area/1e6,2))\n",
    "    return region_area"
   ]
  },
  {
   "cell_type": "code",
   "execution_count": 4,
   "metadata": {},
   "outputs": [],
   "source": [
    "def pop_by_area(hex_num,pop_rho):\n",
    "    #Method 2: Use the hex num to find the region's area and total population\n",
    "    #equation: total_pop = A*rho; A = total_pop / rho    \n",
    "\n",
    "    region_area = hex_to_area(hex_num) #in square miles\n",
    "    pop_total = round(region_area*pop_rho)\n",
    "    print(\"Total population of the region: \",pop_total)\n",
    "    print(\"Total area of the region: \",region_area,\"square km; in hexes: \",hex_num)\n",
    "    return [pop_total,region_area]\n",
    "\n",
    "def pop_by_area_sqkm(area,pop_rho):\n",
    "    #Method 2: Use the square kilometer area to find total population\n",
    "    #equation: total_pop = A*rho; A = total_pop / rho    \n",
    "\n",
    "    region_area = area \n",
    "    pop_total = round(region_area*pop_rho)\n",
    "    print(\"Total population of the region: \",pop_total)\n",
    "    print(\"Total area of the region: \",region_area,\"square km\")\n",
    "    return pop_total"
   ]
  },
  {
   "cell_type": "code",
   "execution_count": 5,
   "metadata": {},
   "outputs": [
    {
     "name": "stdout",
     "output_type": "stream",
     "text": [
      "Total population of the region:  4640000\n",
      "Total area of the region:  580000.0 square km\n"
     ]
    },
    {
     "data": {
      "text/plain": [
       "4640000"
      ]
     },
     "execution_count": 5,
     "metadata": {},
     "output_type": "execute_result"
    }
   ],
   "source": [
    "pop_by_area_sqkm(0.58e6,8)"
   ]
  },
  {
   "cell_type": "code",
   "execution_count": 6,
   "metadata": {},
   "outputs": [
    {
     "name": "stdout",
     "output_type": "stream",
     "text": [
      "Total population of the region:  300000.0\n",
      "Total area of the region:  388498.38 sq km or 3.884984e+05 ; in hexes:  280.3745278659765\n",
      "Total area of the region, square Mm:  0.39\n"
     ]
    }
   ],
   "source": [
    "#Some population density examples:\n",
    "#Aurignation, Paleolithic: 0.0036 - 0.036\n",
    "#Medieval country: 30 (harsh) - 120 (prosperous)\n",
    "\n",
    "#Historical examples:\n",
    "#Medes, 600 BC: pop 17-35 mil, area 3.0 Mm, rho = 15-30\n",
    "#Persian empire / Achaemenid empire, 500 BC: pop ~50 mil, area 5.5 Mm, rho = 24\n",
    "#Han China, 2 AD: pop 57.6 mil, area 6.2 Mm, rho = 24\n",
    "#Roman empire ? AD: pop ~55 mil, area 4.4 Mm ? , rho = 32\n",
    "#Modern Maasai people: pop ~1.1 - 1.5 mil, area ~160,000 sq km, rho ~ 18 - 20\n",
    "\n",
    "#Mongol empire, 1300 AD, pop ~100 mil, area 18-24 Mm, rho = 14-11\n",
    "\n",
    "pop_rho = 2*0.386102 #population density per sq km\n",
    "pop_total = 3e5#5.29e6\n",
    "hex_num = 10 #number of hexes the region envelopes. Can be decimal approx.\n",
    "\n",
    "region_area = area_by_pop(pop_total,pop_rho)"
   ]
  },
  {
   "cell_type": "code",
   "execution_count": 7,
   "metadata": {},
   "outputs": [
    {
     "name": "stdout",
     "output_type": "stream",
     "text": [
      "Total population of the region:  10000000.0\n",
      "Total area of the region:  12949945.87 sq km or 1.294995e+07 ; in hexes:  9345.81759553255\n",
      "Total area of the region, square Mm:  12.95\n",
      "Total population of the region:  23000000.0\n",
      "Total area of the region:  29784875.5 sq km or 2.978488e+07 ; in hexes:  21495.380469724863\n",
      "Total area of the region, square Mm:  29.78\n",
      "Area difference between initial and final:  16834929.629994147\n",
      "Circular radius difference between initial and final:  1048.7995666086922  km,  203.25572996292485  pixels at equator\n"
     ]
    }
   ],
   "source": [
    "pixel_size = 5.16 #km at equator\n",
    "pop_initial = 10e6\n",
    "pop_final = 23e6\n",
    "region_area_init = area_by_pop(pop_initial,pop_rho)\n",
    "region_area_final = area_by_pop(pop_final,pop_rho)\n",
    "print(\"Area difference between initial and final: \",(region_area_final-region_area_init))\n",
    "r_init = np.sqrt((region_area_init)/np.pi)\n",
    "r_final = np.sqrt((region_area_final)/np.pi)\n",
    "print(\"Circular radius difference between initial and final: \",r_final-r_init,\" km, \",(r_final-r_init)/pixel_size,\" pixels at equator\")"
   ]
  },
  {
   "cell_type": "code",
   "execution_count": 8,
   "metadata": {},
   "outputs": [
    {
     "name": "stdout",
     "output_type": "stream",
     "text": [
      "Total population of the region:  903479\n",
      "Total area of the region:  1300000.0 square km\n"
     ]
    },
    {
     "data": {
      "text/plain": [
       "903479"
      ]
     },
     "execution_count": 8,
     "metadata": {},
     "output_type": "execute_result"
    }
   ],
   "source": [
    "pop_by_area_sqkm(1.3e6,1.8*0.386102)"
   ]
  },
  {
   "cell_type": "code",
   "execution_count": 9,
   "metadata": {},
   "outputs": [],
   "source": [
    "def geograph_dist(pop_total,era=0):\n",
    "    \n",
    "    #Population spread\n",
    "\n",
    "    #village bounds: 20 - 1000; commonly 50 - 300\n",
    "    village_avg = 150\n",
    "    #town bounds: 1000 - 8000; commonly 2500\n",
    "    town_avg = 2500\n",
    "    town_lbound = 1000\n",
    "    #city bounds: 8000 - 12000\n",
    "    city_lbound = 8000\n",
    "    #big city bounds: 12000 - 100000\n",
    "\n",
    "    settlements = []\n",
    "    #randomly generate population of the largest city\n",
    "    neolithic = 0\n",
    "    if neolithic:\n",
    "        settlements.append(round(np.sqrt(pop_total)*(random.randint(1,4)+random.randint(1,4)+0)))\n",
    "    else:\n",
    "        settlements.append(round(np.sqrt(pop_total)*(random.randint(1,4)+random.randint(1,4)+10)))    \n",
    "    #pop_largest_city = round(np.sqrt(pop_total)*(random.randint(1,4)+random.randint(1,4)+10))\n",
    "    print(\"Population of the largest city: \",settlements[0])\n",
    "    #settlements.append(25400)\n",
    "    settlements.append(round(settlements[0]*(random.randint(1,4)+random.randint(1,4))*0.1))\n",
    "    print(\"Population of the second largest city: \",settlements[1])\n",
    "\n",
    "    #Next we can use the largest and second largest settlements to gernerate the rest.\n",
    "    #For a post-Crusades style society with a robust mercantile system, there are a large number\n",
    "    #of towns corresponding to each city. However for pre-Crusades systems, where trade is typically\n",
    "    #localized, there is a much smaller number of towns. More people are rural in this system.\n",
    "    post_mercantile = 0\n",
    "    if post_mercantile:\n",
    "        multiplier = 1-((random.randint(1,4)+random.randint(1,4))*0.05)\n",
    "        while round(settlements[-1]*multiplier) >= city_lbound:\n",
    "            settlements.append(round(settlements[-1]*multiplier))\n",
    "            multiplier = 1-((random.randint(1,4)+random.randint(1,4))*0.05)\n",
    "            #print(settlements)\n",
    "        print(\"Array of notable cities: \",settlements)\n",
    "\n",
    "        #Next level down: towns.\n",
    "        cities = [x for x in settlements if x > city_lbound]\n",
    "        towns_num = len(cities)*(random.randint(1,8)+random.randint(1,8))\n",
    "        print(\"Number of towns: \",towns_num, \"each with avg pop: \",town_avg)\n",
    "        towns_total = towns_num*town_avg\n",
    "        print(\"Total population of towns: \",towns_total)\n",
    "\n",
    "        total_urban_pop = towns_total+sum(settlements) \n",
    "    else:\n",
    "        multiplier = 1-((random.randint(1,4)+random.randint(1,4))*0.05)\n",
    "        while round(settlements[-1]*multiplier) >= town_lbound:\n",
    "            settlements.append(round(settlements[-1]*multiplier))\n",
    "            multiplier = 1-((random.randint(1,4)+random.randint(1,4))*0.05)\n",
    "            #print(settlements)\n",
    "        print(\"Array of notable cities and towns: \",settlements)\n",
    "\n",
    "        #Next level down: towns.\n",
    "        towns = [x for x in settlements if x < city_lbound]\n",
    "        towns_num = len(towns)\n",
    "        print(\"Number of towns: \",towns_num)\n",
    "        towns_total = sum(towns)\n",
    "        print(\"Total population of towns: \",towns_total)\n",
    "\n",
    "        total_urban_pop = sum(settlements)\n",
    "\n",
    "    if towns_num > 0:    \n",
    "        town_rho = region_area / towns_num\n",
    "    else:\n",
    "        town_rho = region_area        \n",
    "\n",
    "    print(\"Total urban population: \",total_urban_pop)\n",
    "    total_rural_pop = pop_total - total_urban_pop\n",
    "    print(\"Total rural population: \",total_rural_pop)\n",
    "    village_num = round(total_rural_pop/village_avg)\n",
    "\n",
    "    #From a Magical Medieval Society\n",
    "    manor_num = round(total_rural_pop/450)\n",
    "    print(\"Estimate of the number of small villages: \",village_num)\n",
    "    print(\"Estimate of the number of manors: \",manor_num)\n",
    "    print(\"Estimate of the number of small villages per manor: \",village_num/manor_num)\n",
    "    print(\"Number of square km per town: \",town_rho)\n",
    "    \n",
    "    #Distribution of Land\n",
    "    #How much land is arible vs wilderness? An average square mile of arable farmland\n",
    "    #can support 180 people. This number can vary with the amount of magic available to the society or\n",
    "    #other environmental factors.\n",
    "    support_factor = 180*0.3861018 # per square MILE, to convert to square km, need to multiply by 0.3 ish \n",
    "    farmland = round(pop_total / support_factor)\n",
    "    print(\"\\n\\nAmount of cultivated land: \", farmland,\" sq km.\")\n",
    "    print(\"This is \", round((farmland/region_area)*100),\"% of the total region's area.\")\n",
    "\n",
    "    if post_mercantile:\n",
    "        if towns_num > 0:\n",
    "            print(\"Number of square km per town considering only cultivated land: \",round(farmland / towns_num))\n",
    "            print(\"Number of km between towns within a cluster: \", round(np.sqrt(farmland / towns_num)))\n",
    "        else:\n",
    "            print(\"Number of square km per town considering only cultivated land: \",farmland)\n",
    "            print(\"Number of km between towns within a cluster: \", round(np.sqrt(farmland)))\n",
    "    else:\n",
    "        print(\"Number of square km per town considering only cultivated land: \",round(farmland / len(settlements)))\n",
    "        print(\"Number of km between towns within a cluster: \", round(np.sqrt(farmland / len(settlements))))\n",
    "\n",
    "    return [total_urban_pop,total_rural_pop,village_num]"
   ]
  },
  {
   "cell_type": "code",
   "execution_count": 10,
   "metadata": {},
   "outputs": [
    {
     "data": {
      "text/plain": [
       "37500"
      ]
     },
     "execution_count": 10,
     "metadata": {},
     "output_type": "execute_result"
    }
   ],
   "source": [
    "41500-4000"
   ]
  },
  {
   "cell_type": "code",
   "execution_count": 44,
   "metadata": {},
   "outputs": [
    {
     "name": "stdout",
     "output_type": "stream",
     "text": [
      "Total population of the region:  400000\n",
      "Total area of the region:  34533.19 sq km or 3.453319e+04 ; in hexes:  24.922180254753467\n",
      "Total area of the region, square Mm:  0.03\n",
      "Population of the largest city:  8854\n",
      "Population of the second largest city:  4427\n",
      "Array of notable cities and towns:  [8854, 4427, 3984, 2988, 2390, 1912, 1530, 1148]\n",
      "Number of towns:  7\n",
      "Total population of towns:  18379\n",
      "Total urban population:  27233\n",
      "Total rural population:  372767\n",
      "Estimate of the number of small villages:  2485\n",
      "Estimate of the number of manors:  828\n",
      "Estimate of the number of small villages per manor:  3.001207729468599\n",
      "Number of square km per town:  4933.312712086197\n",
      "\n",
      "\n",
      "Amount of cultivated land:  5756  sq km.\n",
      "This is  17 % of the total region's area.\n",
      "Number of square km per town considering only cultivated land:  720\n",
      "Number of km between towns within a cluster:  27\n"
     ]
    }
   ],
   "source": [
    "pop_total = 400000#1.1e6 #486962\n",
    "\n",
    "#Some population density examples:\n",
    "#Aurignation, Paleolithic: 0.0036 - 0.036\n",
    "#Medieval country: 30 (harsh) - 120 (prosperous)\n",
    "\n",
    "#Historical examples:\n",
    "#Medes, 600 BC: pop 17-35 mil, area 3.0 Mm, rho = 15-30\n",
    "#Persian empire / Achaemenid empire, 500 BC: pop ~50 mil, area 5.5 Mm, rho = 24\n",
    "#Han China, 2 AD: pop 57.6 mil, area 6.2 Mm, rho = 24\n",
    "#Roman empire ? AD: pop ~55 mil, area 4.4 Mm ? , rho = 32\n",
    "#Modern Maasai people: pop ~1.1 - 1.5 mil, area ~160,000 sq km, rho ~ 18 - 20\n",
    "\n",
    "#Mongol empire, 1300 AD, pop ~100 mil, area 18-24 Mm, rho = 14-11\n",
    "pop_rho = 30*0.386102 #population density per sq km\n",
    "region_area = area_by_pop(pop_total,pop_rho)\n",
    "\n",
    "total_urban_pop,total_rural_pop,village_num = geograph_dist(pop_total)"
   ]
  },
  {
   "cell_type": "code",
   "execution_count": 38,
   "metadata": {},
   "outputs": [],
   "source": [
    "# #Distribution of Land\n",
    "# #How much land is arible vs wilderness? An average square mile of arable farmland\n",
    "# #can support 180 people. This number can vary with the amount of magic available to the society or\n",
    "# #other environmental factors.\n",
    "# support_factor = 180*0.3861018 # per square MILE, to convert to square km, need to multiply by 0.3 ish \n",
    "# farmland = round(pop_total / support_factor)\n",
    "# print(\"Amount of cultivated land: \", farmland,\" sq km.\")\n",
    "# print(\"This is \", round((farmland/region_area)*100),\"% of the total region's area.\")\n",
    "\n",
    "# if post_mercantile:\n",
    "#     if towns_num > 0:\n",
    "#         print(\"Number of square km per town considering only cultivated land: \",round(farmland / towns_num))\n",
    "#         print(\"Number of km between towns within a cluster: \", round(np.sqrt(farmland / towns_num)))\n",
    "#     else:\n",
    "#         print(\"Number of square km per town considering only cultivated land: \",farmland)\n",
    "#         print(\"Number of km between towns within a cluster: \", round(np.sqrt(farmland)))\n",
    "# else:\n",
    "#     print(\"Number of square km per town considering only cultivated land: \",round(farmland / len(settlements)))\n",
    "#     print(\"Number of km between towns within a cluster: \", round(np.sqrt(farmland / len(settlements))))\n"
   ]
  },
  {
   "cell_type": "markdown",
   "metadata": {},
   "source": [
    "## Deity Pool from Demographics"
   ]
  },
  {
   "cell_type": "code",
   "execution_count": 39,
   "metadata": {},
   "outputs": [
    {
     "name": "stdout",
     "output_type": "stream",
     "text": [
      "0.003461433962264151\n",
      "Deity pool:  211.66980208301888  out of  1384.5735849056605\n",
      "Max major deities supported:  1.1759433449056604\n",
      "Number of possible minor deities with  1.0  major deities:  0.26391501735849066\n",
      "Village density:  41274.72787004388  square kilometers per village\n",
      "Width of regional belief from small villages sufficient to create one minor deity:  1022.4974672717083\n",
      "Number of divine continuances:  10.04\n"
     ]
    }
   ],
   "source": [
    "#Deity Pool\n",
    "# This is all based on Greek pantheon, where we have 12 major deities (abilities of 30 average)\n",
    "# and 400 minor deities (abilities of 18 average)\n",
    "# This gives the Greek people (with a population of 13 million) a 91 J/s grant to the deity pool, of an arbitrary 500 J/s bleedoff.\n",
    "\n",
    "#Derivation:\n",
    "#15.9e9 Joules / Ability Point\n",
    "#average of 60 ability points which can replenish each week, so:\n",
    "#(60*15.9e9) / (7*24*3600) = 1.577e6 J/s flows through a person's soul.\n",
    "#Of this, let's say 91 are used to support the person's beliefs. This is 0.000057, or 0.0057% of their energy each second.\n",
    "joules_per_second = 91\n",
    "deity_constant = (joules_per_second*3600*24*7)/(15.9e9) #the constant multiple representing the number of ability points / week / person\n",
    "print(deity_constant)\n",
    "#This is saying that, over\n",
    "#deity_pool = deity_constant*pop_total #multiplying that constant by the population to figure out the number of ability points / week\n",
    "deity_pool = deity_constant*(total_urban_pop+total_rural_pop*0.1) #estimating that most of the rural population don't fully worship the\n",
    "                                                                    #deities in the same way that urbanites with close access\n",
    "                                                                    #to temples do.\n",
    "        \n",
    "deity_pool_full = deity_constant*(total_urban_pop+total_rural_pop)\n",
    "\n",
    "#deity_pool = deity_constant*test_pop\n",
    "\n",
    "print(\"Deity pool: \",deity_pool,\" out of \",deity_pool_full)\n",
    "majordeity = 30*6 #This is approximating the AVERAGE ability score of a major deity is 30\n",
    "minordeity = 20*6 #This is approximating the AVERAGE ability score of a minor deity is 20 ish\n",
    "spirit = 30/6 #based on air elemental\n",
    "\n",
    "print(\"Max major deities supported: \",deity_pool/majordeity)\n",
    "\n",
    "numMajor = np.floor(deity_pool/majordeity)\n",
    "print(\"Number of possible minor deities with \",numMajor,\" major deities: \",(deity_pool-(numMajor*majordeity))/minordeity )\n",
    "\n",
    "\n",
    "village_test_num = 250 #number of villages, on average, to support one minor deity\n",
    "\n",
    "#radius of village subset, square km\n",
    "village_density = ((region_area)/village_num)\n",
    "village_subset_area = village_test_num*village_density\n",
    "width_of_regional_belief = np.sqrt(village_subset_area)/(np.pi)\n",
    "print(\"Village density: \",village_density, \" square kilometers per village\")\n",
    "print(\"Width of regional belief from small villages sufficient to create one minor deity: \",width_of_regional_belief)\n",
    "print(\"Number of divine continuances: \",village_num/village_test_num)"
   ]
  },
  {
   "cell_type": "code",
   "execution_count": 33,
   "metadata": {},
   "outputs": [
    {
     "data": {
      "text/plain": [
       "207.68603773584906"
      ]
     },
     "execution_count": 33,
     "metadata": {},
     "output_type": "execute_result"
    }
   ],
   "source": [
    "deity_constant*60000"
   ]
  },
  {
   "cell_type": "code",
   "execution_count": 23,
   "metadata": {},
   "outputs": [
    {
     "data": {
      "text/plain": [
       "0.003461433962264151"
      ]
     },
     "execution_count": 23,
     "metadata": {},
     "output_type": "execute_result"
    }
   ],
   "source": [
    "#For weather modifying divine continuance, 1.16333175962 km^2 per ability point of deity, ish\n"
   ]
  },
  {
   "cell_type": "markdown",
   "metadata": {},
   "source": [
    "## Level Distribution from Demographics"
   ]
  },
  {
   "cell_type": "code",
   "execution_count": 13,
   "metadata": {},
   "outputs": [],
   "source": [
    "#From the Alexandrian, https://thealexandrian.net/wordpress/587/roleplaying-games/dd-calibrating-your-expectations-2\n"
   ]
  },
  {
   "cell_type": "code",
   "execution_count": 14,
   "metadata": {},
   "outputs": [],
   "source": [
    "#For this section, if I want to use a different population total, change it here:\n",
    "\n",
    "#pop_total = 1.8e6 #an example of a \"civilization generation\" or the growth of a human civilization in 13 generations.\n",
    "#pop_total = 0.48e6 #a \"civilization generation\" for an astar civilizatoin\n",
    "#pop_total = 84000 #a Waithi civilization-generation\n",
    "\n",
    "#So what I've learned from the poppyr file is that each race can easily support a similar growth rate,\n",
    "#So their \"generation\" sizes are actually going to be proportional to their lifespan--much larger for\n",
    "#longer-lived peoples.\n",
    "#For an initial population of 10e6 and a standard growth rate of 0.04%:\n",
    "#Human generation, 27 years: 100,000\n",
    "#Astar generation, 120 years: 120,000\n",
    "#Far Ul generation, 2000 years: 12,000,000\n",
    "pop_total_base = 100000\n",
    "pop_total = 100000\n",
    "\n",
    "#Longer lived races have more people per generation, "
   ]
  },
  {
   "cell_type": "code",
   "execution_count": 15,
   "metadata": {},
   "outputs": [
    {
     "data": {
      "text/plain": [
       "3250000.0"
      ]
     },
     "execution_count": 15,
     "metadata": {},
     "output_type": "execute_result"
    }
   ],
   "source": [
    "xp_peryear = 6500/50\n",
    "xp_peryear*25000"
   ]
  },
  {
   "cell_type": "code",
   "execution_count": 16,
   "metadata": {},
   "outputs": [],
   "source": [
    "def normpdf(x, mean, sd):\n",
    "    var = float(sd)**2\n",
    "    denom = (2*math.pi*var)**.5\n",
    "    num = math.exp(-(float(x)-float(mean))**2/(2*var))\n",
    "    return num/denom"
   ]
  },
  {
   "cell_type": "code",
   "execution_count": 17,
   "metadata": {},
   "outputs": [],
   "source": [
    "#The results of this function tell how many people born in a given generation will likely\n",
    "#reach a certain level. For example, it is rare for many humans of a given generation to ever\n",
    "#progress beyond the 5th level. This does NOT mean that these people reach the levels described\n",
    "#within the timespan of a single generation. A human might not reach level 5 until they are elderly.\n",
    "def get_class_distro(pop_total,race = \"human\"):\n",
    "    \n",
    "    #About 5% of a population can be considered \"elite\" in their ability scores.\n",
    "    #Of these people, let's say x% take advantage of their gifts, where those x% are motivated.\n",
    "\n",
    "    motivated = 0.25\n",
    "    pop_classed = round(pop_total*0.1*motivated)\n",
    "    \n",
    "    heroes = 0\n",
    "    #establish what we're working with:\n",
    "    print(\"Total number of classed individuals: \",pop_classed)\n",
    "    \n",
    "    #I believe that races with longer lifespans will have more people with class levels due to\n",
    "    #the longer time allowed to perfect their skills. The standard deviation reflects that.\n",
    "    \n",
    "    if race == \"human\":\n",
    "        #For humans: level 5 is the once in a generation level; the 3rd standard deviation.\n",
    "        std = 5/3\n",
    "    elif race == \"astar\":\n",
    "        #For astar: with lives an average of 300 years--and pushing a maximum of 1000 years,\n",
    "        #astar are able to develop their abilities much more than the average human.\n",
    "        #For the astar, level 9 is the once in a generation standard.\n",
    "        std = 7/3\n",
    "    elif race == \"waith\":\n",
    "        #For the waith, level 18 is the once in a generation standard.\n",
    "        std = 9/3\n",
    "    else:\n",
    "        print(\"Not available race.\")\n",
    "        return 0\n",
    "    \n",
    "    net_CR =[]\n",
    "    breakpoint = std*2\n",
    "    for level in range(1,21):\n",
    "        npcs = round(2*pop_classed*normpdf(level,1,std),4)\n",
    "        if npcs > 1:\n",
    "            print(\"Level \" + str(level) + \":\\t\",npcs)\n",
    "            if level <= breakpoint:\n",
    "                net_CR.append(npcs*level*(1/4))\n",
    "            \n",
    "            floatingpoint = breakpoint%1 #int(str(std-int(std))[1:]) \n",
    "            if floatingpoint != 0:\n",
    "                if level == np.ceil(breakpoint):\n",
    "                    net_CR.append(npcs*level*(1/4)*floatingpoint)\n",
    "        else:\n",
    "            if npcs > 1e-4:\n",
    "                print(\"Level \" + str(level) + \":\\t\",npcs,\" or 1 per \" + str(round(1.0/npcs,1)) + \" generations\")\n",
    "            else:\n",
    "                print(\"Level \" + str(level) + \":\\t\",npcs)\n",
    "        if level >= 10:\n",
    "            heroes += npcs\n",
    "    \n",
    "    print(\"68% of class holders fall below level: \",breakpoint/2)\n",
    "    print(\"95 fall below: \",breakpoint)\n",
    "    print(\"\\nTotal CR:\",np.sum(net_CR))\n",
    "    print(\"\\n\\nNumber of NPCs over level 10: \",heroes)"
   ]
  },
  {
   "cell_type": "code",
   "execution_count": 18,
   "metadata": {},
   "outputs": [
    {
     "name": "stdout",
     "output_type": "stream",
     "text": [
      "Total number of classed individuals:  2500\n",
      "Level 1:\t 664.9038\n",
      "Level 2:\t 628.972\n",
      "Level 3:\t 532.4133\n",
      "Level 4:\t 403.2845\n",
      "Level 5:\t 273.3501\n",
      "Level 6:\t 165.7952\n",
      "Level 7:\t 89.9849\n",
      "Level 8:\t 43.7031\n",
      "Level 9:\t 18.9933\n",
      "Level 10:\t 7.3864\n",
      "Level 11:\t 2.5705\n",
      "Level 12:\t 0.8005  or 1 per 1.2 generations\n",
      "Level 13:\t 0.2231  or 1 per 4.5 generations\n",
      "Level 14:\t 0.0556  or 1 per 18.0 generations\n",
      "Level 15:\t 0.0124  or 1 per 80.6 generations\n",
      "Level 16:\t 0.0025  or 1 per 400.0 generations\n",
      "Level 17:\t 0.0004  or 1 per 2500.0 generations\n",
      "Level 18:\t 0.0001\n",
      "Level 19:\t 0.0\n",
      "Level 20:\t 0.0\n",
      "68% of class holders fall below level:  3.0\n",
      "95 fall below:  6.0\n",
      "\n",
      "Total CR: 1873.68685\n",
      "\n",
      "\n",
      "Number of NPCs over level 10:  11.0515\n"
     ]
    }
   ],
   "source": [
    "#Once we know how many people of a given generation will likely reach a certain level,\n",
    "#we should acknowledge that for longer-lived races, many generations may be alive at a single time.\n",
    "\n",
    "#This is normalized, though, by the idea that the progression along these levels is not instantaneous,\n",
    "#and in fact could be spread along many generations.\n",
    "\n",
    "#pop_total = 21014*12.5 #waith generation; pop = 15e6\n",
    "pop_total = pop_total_base\n",
    "#num generations living at a time: up to 12.5\n",
    "get_class_distro(pop_total,\"waith\")"
   ]
  },
  {
   "cell_type": "code",
   "execution_count": 19,
   "metadata": {},
   "outputs": [
    {
     "name": "stdout",
     "output_type": "stream",
     "text": [
      "Total number of classed individuals:  2500\n",
      "Level 1:\t 854.8763\n",
      "Level 2:\t 779.8644\n",
      "Level 3:\t 592.0611\n",
      "Level 4:\t 374.0637\n",
      "Level 5:\t 196.6782\n",
      "Level 6:\t 86.0595\n",
      "Level 7:\t 31.3381\n",
      "Level 8:\t 9.4968\n",
      "Level 9:\t 2.3951\n",
      "Level 10:\t 0.5027  or 1 per 2.0 generations\n",
      "Level 11:\t 0.0878  or 1 per 11.4 generations\n",
      "Level 12:\t 0.0128  or 1 per 78.1 generations\n",
      "Level 13:\t 0.0015  or 1 per 666.7 generations\n",
      "Level 14:\t 0.0002  or 1 per 5000.0 generations\n",
      "Level 15:\t 0.0\n",
      "Level 16:\t 0.0\n",
      "Level 17:\t 0.0\n",
      "Level 18:\t 0.0\n",
      "Level 19:\t 0.0\n",
      "Level 20:\t 0.0\n",
      "68% of class holders fall below level:  2.3333333333333335\n",
      "95 fall below:  4.666666666666667\n",
      "\n",
      "Total CR: 1585.6593\n",
      "\n",
      "\n",
      "Number of NPCs over level 10:  0.605\n"
     ]
    }
   ],
   "source": [
    "#pop_total = 115462*8.3 #astar generation; pop = 15e6\n",
    "pop_total = pop_total_base\n",
    "#num generations living at a time: up to 8.3\n",
    "get_class_distro(pop_total,\"astar\")"
   ]
  },
  {
   "cell_type": "code",
   "execution_count": 22,
   "metadata": {},
   "outputs": [
    {
     "name": "stdout",
     "output_type": "stream",
     "text": [
      "Total number of classed individuals:  2500\n",
      "Level 1:\t 1196.8268\n",
      "Level 2:\t 999.6738\n",
      "Level 3:\t 582.5582\n",
      "Level 4:\t 236.8505\n",
      "Level 5:\t 67.1836\n",
      "Level 6:\t 13.2955\n",
      "Level 7:\t 1.8357\n",
      "Level 8:\t 0.1768  or 1 per 5.7 generations\n",
      "Level 9:\t 0.0119  or 1 per 84.0 generations\n",
      "Level 10:\t 0.0006  or 1 per 1666.7 generations\n",
      "Level 11:\t 0.0\n",
      "Level 12:\t 0.0\n",
      "Level 13:\t 0.0\n",
      "Level 14:\t 0.0\n",
      "Level 15:\t 0.0\n",
      "Level 16:\t 0.0\n",
      "Level 17:\t 0.0\n",
      "Level 18:\t 0.0\n",
      "Level 19:\t 0.0\n",
      "Level 20:\t 0.0\n",
      "68% of class holders fall below level:  1.6666666666666667\n",
      "95 fall below:  3.3333333333333335\n",
      "\n",
      "Total CR: 1314.9124166666668\n",
      "\n",
      "\n",
      "Number of NPCs over level 10:  0.0006\n"
     ]
    }
   ],
   "source": [
    "#pop_total = 162877*3 #human generation; pop = 15e6\n",
    "pop_total = pop_total_base\n",
    "#num generations living at a time: 3\n",
    "get_class_distro(pop_total,\"human\")"
   ]
  },
  {
   "cell_type": "code",
   "execution_count": 23,
   "metadata": {},
   "outputs": [],
   "source": [
    "def power_law(x,steepness,minvalue=1):\n",
    "    print(\"90th percentile: \",(10)**(1/steepness))\n",
    "    return ( steepness*minvalue**steepness * x**(-steepness-1))\n",
    "\n",
    "def steepness_from_mean(mean,minvalue=1):\n",
    "    return (-mean/(minvalue-mean))"
   ]
  },
  {
   "cell_type": "code",
   "execution_count": 24,
   "metadata": {},
   "outputs": [
    {
     "name": "stdout",
     "output_type": "stream",
     "text": [
      "1.6 2.6666666666666665\n",
      "90th percentile:  2.371373705661655\n",
      "[2.66666667e+00 2.09986842e-01 4.74814673e-02 1.65354276e-02\n",
      " 7.29589737e-03 3.73893126e-03 2.12459384e-03 1.30208333e-03\n",
      " 8.45433653e-04 5.74515917e-04 4.05068887e-04 2.94422387e-04\n",
      " 2.19538036e-04 1.67301282e-04 1.29907467e-04 1.02532638e-04\n",
      " 8.20961304e-05 6.65737285e-05 5.46016201e-05 4.52402936e-05]\n"
     ]
    },
    {
     "data": {
      "text/plain": [
       "([<matplotlib.axis.XTick at 0x7f740f8cd400>,\n",
       "  <matplotlib.axis.XTick at 0x7f740f8cd3d0>,\n",
       "  <matplotlib.axis.XTick at 0x7f740f8f2970>,\n",
       "  <matplotlib.axis.XTick at 0x7f740f877b80>,\n",
       "  <matplotlib.axis.XTick at 0x7f740f8777f0>,\n",
       "  <matplotlib.axis.XTick at 0x7f740f88c430>,\n",
       "  <matplotlib.axis.XTick at 0x7f740f88c940>,\n",
       "  <matplotlib.axis.XTick at 0x7f740f88ce50>,\n",
       "  <matplotlib.axis.XTick at 0x7f740f8903a0>,\n",
       "  <matplotlib.axis.XTick at 0x7f740f8908b0>,\n",
       "  <matplotlib.axis.XTick at 0x7f740f890dc0>,\n",
       "  <matplotlib.axis.XTick at 0x7f740f0c0310>,\n",
       "  <matplotlib.axis.XTick at 0x7f740f0c0820>,\n",
       "  <matplotlib.axis.XTick at 0x7f740f890400>,\n",
       "  <matplotlib.axis.XTick at 0x7f740f88c490>,\n",
       "  <matplotlib.axis.XTick at 0x7f740f0c0430>,\n",
       "  <matplotlib.axis.XTick at 0x7f740f0c0d30>,\n",
       "  <matplotlib.axis.XTick at 0x7f740f0c9280>,\n",
       "  <matplotlib.axis.XTick at 0x7f740f0c9790>,\n",
       "  <matplotlib.axis.XTick at 0x7f740f0c9ca0>],\n",
       " [Text(0, 0, ''),\n",
       "  Text(0, 0, ''),\n",
       "  Text(0, 0, ''),\n",
       "  Text(0, 0, ''),\n",
       "  Text(0, 0, ''),\n",
       "  Text(0, 0, ''),\n",
       "  Text(0, 0, ''),\n",
       "  Text(0, 0, ''),\n",
       "  Text(0, 0, ''),\n",
       "  Text(0, 0, ''),\n",
       "  Text(0, 0, ''),\n",
       "  Text(0, 0, ''),\n",
       "  Text(0, 0, ''),\n",
       "  Text(0, 0, ''),\n",
       "  Text(0, 0, ''),\n",
       "  Text(0, 0, ''),\n",
       "  Text(0, 0, ''),\n",
       "  Text(0, 0, ''),\n",
       "  Text(0, 0, ''),\n",
       "  Text(0, 0, '')])"
      ]
     },
     "execution_count": 24,
     "metadata": {},
     "output_type": "execute_result"
    },
    {
     "data": {
      "image/png": "[encoded data removed]",
      "text/plain": [
       "<Figure size 432x288 with 1 Axes>"
      ]
     },
     "metadata": {
      "needs_background": "light"
     },
     "output_type": "display_data"
    }
   ],
   "source": [
    "x = np.linspace(1,20,20)\n",
    "mean = 1.6\n",
    "print(mean,steepness_from_mean(mean))\n",
    "y = power_law(x,steepness_from_mean(mean))\n",
    "print(y)\n",
    "plt.plot(x,y)\n",
    "plt.grid()\n",
    "plt.xticks(np.linspace(1,20,20))\n",
    "#for i in range(0,10):\n",
    "    "
   ]
  },
  {
   "cell_type": "code",
   "execution_count": null,
   "metadata": {},
   "outputs": [],
   "source": []
  }
 ],
 "metadata": {
  "kernelspec": {
   "display_name": "Python 3",
   "language": "python",
   "name": "python3"
  },
  "language_info": {
   "codemirror_mode": {
    "name": "ipython",
    "version": 3
   },
   "file_extension": ".py",
   "mimetype": "text/x-python",
   "name": "python",
   "nbconvert_exporter": "python",
   "pygments_lexer": "ipython3",
   "version": "3.8.2"
  }
 },
 "nbformat": 4,
 "nbformat_minor": 4
}
