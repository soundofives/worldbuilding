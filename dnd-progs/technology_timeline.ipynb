{
 "cells": [
  {
   "cell_type": "code",
   "execution_count": 25,
   "metadata": {},
   "outputs": [],
   "source": [
    "import numpy as np\n",
    "import matplotlib.pyplot as plt\n",
    "import random\n",
    "import copy\n",
    "import uncertainties\n",
    "from uncertainties import unumpy"
   ]
  },
  {
   "cell_type": "code",
   "execution_count": 46,
   "metadata": {},
   "outputs": [
    {
     "name": "stdout",
     "output_type": "stream",
     "text": [
      "5.5\n",
      "50.5\n",
      "[  1.  12.  23.  34.  45.  56.  67.  78.  89. 100.] 50+/-4\n"
     ]
    }
   ],
   "source": [
    "meds = np.linspace(1,100,10)\n",
    "MADs = np.linspace(1,10,10)\n",
    "x = unumpy.uarray(meds,MADs)\n",
    "print(np.median(MADs))\n",
    "print(np.median(meds))\n",
    "print(meds,np.median(x,axis=0))"
   ]
  },
  {
   "cell_type": "code",
   "execution_count": 45,
   "metadata": {},
   "outputs": [
    {
     "data": {
      "text/plain": [
       "array([ 1.,  2.,  3.,  4.,  5.,  6.,  7.,  8.,  9., 10.])"
      ]
     },
     "execution_count": 45,
     "metadata": {},
     "output_type": "execute_result"
    }
   ],
   "source": [
    "unumpy.std_devs(x)"
   ]
  },
  {
   "cell_type": "code",
   "execution_count": 15,
   "metadata": {},
   "outputs": [
    {
     "data": {
      "text/plain": [
       "<BarContainer object of 10 artists>"
      ]
     },
     "execution_count": 15,
     "metadata": {},
     "output_type": "execute_result"
    },
    {
     "data": {
      "image/png": "[encoded data removed]",
      "text/plain": [
       "<Figure size 720x720 with 1 Axes>"
      ]
     },
     "metadata": {
      "needs_background": "light"
     },
     "output_type": "display_data"
    }
   ],
   "source": [
    "x = np.linspace(1,10,10)\n",
    "y = np.random.randint(1,100,size=10)\n",
    "std = np.random.randint(1,15,size=10)\n",
    "plt.figure(figsize=[10,10])\n",
    "plt.bar(x,y,yerr=std)"
   ]
  },
  {
   "cell_type": "raw",
   "metadata": {},
   "source": [
    "Timing releative to CIV tech tree events\n",
    "Earliest clothing: 170000 BC\n",
    "Cognitive revolution: 40-50,000 BC (2100 – 2600 generations before present)\n",
    "\n",
    "NEOLITHIC PERIOD: 10000 BC – 4500 BC (500 – 225 GBP)\n",
    "Most people lived in bands or tribes until the late neolithic\n",
    "Little evidence of social stratification\n",
    "Agriculture and animal domestication brings social inequality\n",
    "Agriculture brought early settlements\n",
    "Tools are stone, bone, or other, but are diverse\n",
    "\n",
    "\n",
    "Agriculture: 10000 BC (600 gens)\n",
    "Animal Husbandry: 10000 BC (600 gens)\n",
    "Archery as weaponry: 10000 BC (600 gens)\n",
    "Flint mining: 10000 BC (600 gens)\n",
    "Timekeeping: 10-5000 BC (600 – 350 gens)\n",
    "Pottery: 10-7000 BC (600 – 450 gens)\n",
    "Proto-writing: 7000 BC (450 gens)\n",
    "Copper working: 6000 BC (400 gens)\n",
    "Early textiles: 6000 BC (400 gens)\n",
    "Trapping: 5500 BC (375 gens)\n",
    "\n",
    "Significant Masonry: 4000 BC (300 gens)\n",
    "Earliest complex civilizations: 4000 BC (300 gens)\n",
    "Wheel: 3500 BC (275 gens)\n",
    "Horseback riding: 3500 BC (275 gens)\n",
    "Writing: 3400 BC (270 gens)\n",
    "Modern calendar: 3000 BC (250 gens)\n",
    "Early mathematics: 3000 BC\n",
    "Ocean Sailing: 3000 BC\n",
    "Post and Lintel construction: 3000 BC\n",
    "Early currency: 3000 BC\n",
    "Bronze working: 2500 BC (225 gens)\n",
    "Chariot driving: 2500 BC (225 gens)\n",
    "\n",
    "Large-scale iron working: 1200 BC (160 gens)\n",
    "Standardized coinage: 1000 BC (150 gens)\n",
    "Lens: 800 BC (140 gens)\n",
    "Philosophy: 600 BC (130 gens)\n",
    "Study of Mathematics: 600 BC (130 gens)\n",
    "Construction: 600 BC (130 gens)\n",
    "Optics: 300 BC (115 gens)\n",
    "Engineering: 200 BC (110 gens)"
   ]
  },
  {
   "cell_type": "code",
   "execution_count": 3,
   "metadata": {},
   "outputs": [],
   "source": [
    "#Tech levels defined as their name followed by the year they were developed (Before Present)\n",
    "c = 2000\n",
    "global tech_earth\n",
    "tech_earth = [\n",
    "[\"Daily usage of fire\",300000],\n",
    "[\"Fictive language\",70000],\n",
    "[\"Surface mining\",45000],\n",
    "[\"Non-sailing boats\",42000],\n",
    "[\"Shaft mining\",40000],\n",
    "[\"Pottery\",20000],\n",
    "[\"Obsidian trade networks\",14000],\n",
    "[\"Neolithic period\", 12000],\n",
    "[\"Settlement size: 100\",12000],\n",
    "[\"Agriculture\", 12000],\n",
    "[\"Animal Husbandry\",12000],\n",
    "[\"Archery\",12000],\n",
    "[\"Timekeeping\",12000],\n",
    "[\"Granaries appear\",11500],\n",
    "[\"Non-burial spiritual architecture\",11000],\n",
    "[\"Proto-writing\",9000],\n",
    "[\"Settlement size: 800\",9000],\n",
    "    \n",
    "[\"\\nCharcolithic period\",8000],\n",
    "[\"Copper working\",8000],\n",
    "[\"Early textiles\",8000],\n",
    "[\"Settlement size: 4000\",8000],\n",
    "[\"Early Proto-Indo-European Millenium\", 7500],\n",
    "[\"Trapping\",7500],\n",
    "[\"Carpentry\",7500],\n",
    "[\"Founding of Eridu\",7400],\n",
    "[\"Founding of Uruk\",6500],\n",
    "[\"Late Proto-Indo-European Millenium\", 6000],\n",
    "[\"Significant Masonry\",6000],\n",
    "[\"Paved roads\",6000],\n",
    "[\"Earliest complex civilizations\",6000],\n",
    "[\"Founding of Ur\",5800],\n",
    "\n",
    "[\"\\nBronze Age\",5500],\n",
    "[\"Spear and shield formations\",5500],\n",
    "[\"Wheel\",5500],\n",
    "[\"Horseback riding\",5500],\n",
    "[\"Bronze working in Mesopotamia\",5500],\n",
    "[\"Writing\",5400],\n",
    "[\"Uruk has 40,000 residents, 90,000 near\",5100],\n",
    "[\"Unification of Egypt\",5100],\n",
    "[\"Modern calendar\",5000],\n",
    "[\"Polytheistic religions\",5000],\n",
    "[\"Early mathematics\",5000],\n",
    "[\"Ocean Sailing\",5000],\n",
    "[\"Post and Lintel construction\",5000],\n",
    "[\"Early currency\",5000],\n",
    "[\"Eridu at largest point\",4900],\n",
    "[\"Early Sumerian Dynastic Period\",4900],\n",
    "[\"First Egyptian Stepped Pyramid\",4780],\n",
    "[\"First standing armies\",4600],\n",
    "[\"Earliest libraries\",4600],\n",
    "#[\"Bronze working\",4500],\n",
    "[\"Chariot driving\",4500],\n",
    "[\"Indus-Mesopotamian trade\",4500],\n",
    "[\"Great pyramids\",4500],\n",
    "[\"Akkadian Empire\",4330],\n",
    "[\"End of Old Kingdom in Egypt\",4200],\n",
    "[\"Ziggurat of Ur build\",4100],\n",
    "[\"Ur over 65,000 people\",4030],\n",
    "[\"Old Assyrian Empire\",4030],\n",
    "[\"Approx. Equiv. Time of Mesoamerican Megaliths\",4000],\n",
    "[\"Eridu abandoned\",4000],\n",
    "[\"2000 BC\",4000],\n",
    "[\"Assyrian merchant colony at Kanesh\",3900],\n",
    "[\"Greek agora markets\",3800],\n",
    "[\"Limited iron production\",3700],\n",
    "[\"Early swords\",3700],\n",
    "[\"Ugarit\",3600],\n",
    "[\"Middle Assyrian Empire\",3390],\n",
    "[\"Early engineering\",3300],\n",
    "[\"Celtic Naue II swords\",3300],\n",
    "    \n",
    "[\"\\nIron Age\",3200],\n",
    "[\"Large-scale iron working, common swords\",3200],\n",
    "[\"Early Vedas mature\",3200],\n",
    "[\"Standardized coinage\",2900],\n",
    "[\"Neo Assyrian Empire\",2900],\n",
    "[\"Lens\",2800],\n",
    "[\"Axial Age of thought\",2800],\n",
    "[\"Settlement of colony of Carthage\",2814],\n",
    "[\"Philosophy\",2600],\n",
    "[\"Study of Mathematics\",2600],\n",
    "[\"Construction\",2600],\n",
    "[\"Drama and poetry\",2600],\n",
    "[\"Courthouses\",2500],\n",
    "[\"Ur abandoned\",2500],\n",
    "[\"Alchemy\",2500],\n",
    "[\"Catapults, trebuchet, and gear technology\",2400],\n",
    "[\"Platonic Academy\",2380],\n",
    "[\"Optics\",2300],\n",
    "[\"Trade guilds\",2300],\n",
    "[\"Water wheels\",2300],\n",
    "[\"Roman Engineering\",2200],\n",
    "[\"Composite bows\",2200],\n",
    "[\"Meritocracy\",2200],\n",
    "[\"Systemization of medecine and surgery\",2200],\n",
    "[\"End Axial Age\",2200],\n",
    "\n",
    "[\"\\nSteel Age, steel in common use\",2100],\n",
    "[\"Woodblock printing\",c-300],\n",
    "[\"Fall of Western Roman Empire\",c-500],\n",
    "[\"Mechanical clocks\",c-725],\n",
    "[\"Medieval castles\",c-850],\n",
    "[\"Physics studied\",c-1021],\n",
    "[\"University\",c-1088],\n",
    "[\"First crusade\",c-1095],\n",
    "[\"Compass first utilized\",c-1100],\n",
    "[\"Crossbows common\",c-1100],\n",
    "[\"Chivalric code\",c-1170],\n",
    "[\"Notre Dame constructed\",c-1170],\n",
    "[\"Windmills\",c-1170],\n",
    "[\"Early cannons\",c-1260],\n",
    "[\"Longswords frequently used in combat\",c-1300],\n",
    "\n",
    "[\"\\nJoin-stock companies\",c-1350],\n",
    "[\"Exchange markets\",c-1350],\n",
    "[\"Rennaisance\",c-1400],\n",
    "[\"Banking\",c-1407],\n",
    "[\"Printing press\",c-1440],\n",
    "[\"Museums\",c-1471],\n",
    "[\"Astrolabe\",c-1480],\n",
    "[\"Beginning of the Scientific Revolution\",c-1543],\n",
    "[\"Muskets\",c-1550],\n",
    "[\"Metallurgy\",c-1556],\n",
    "[\"Telescopes\",c-1609],\n",
    "[\"Acoustics\",c-1637],\n",
    "[\"Founding of the Royal Society\",c-1660],\n",
    "[\"Scientific Theory, publication of Principia\",c-1687],\n",
    "[\"Military Academies\",c-1700],\n",
    "[\"Steam Engine\",c-1712],\n",
    "[\"The Factory System\",c-1760],\n",
    "[\"Chemistry\",c-1789],\n",
    "\n",
    "[\"\\nArchaelogy\",c-1800],\n",
    "[\"Railroad\",c-1811],\n",
    "[\"Electric Motor\",c-1821],\n",
    "[\"Artificial Fertilizer\",c-1842],\n",
    "[\"Widespread Rifling\",c-1850],\n",
    "[\"Oil Drilling\",c-1858],\n",
    "[\"Theory of Evolution\",c-1859],\n",
    "[\"Gas refrigeration\",c-1860],\n",
    "[\"Gatling Gun\",c-1861],\n",
    "[\"Ecology\",c-1866],\n",
    "[\"Dynamite\",c-1867],\n",
    "[\"Automobiles\",c-1886],\n",
    "[\"Aluminium common\",c-1888],\n",
    "[\"Modern Artillery\",c-1897],\n",
    "\n",
    "[\"\\nSubmarines\",c-1900],\n",
    "[\"Broadway Theatre\",c-1900],\n",
    "[\"Radio Broadcast\",c-1906],\n",
    "[\"Military Planes\",c-1914],\n",
    "[\"Replaceable Parts\",c-1900],\n",
    "[\"Commercial Airports\",c-1920],\n",
    "[\"Atomic Theory\",c-1927],\n",
    "[\"Complex electronics\",c-1929],\n",
    "[\"Machine guns\",c-1934],\n",
    "[\"Radar\",c-1934],\n",
    "[\"Plastics\",c-1939],\n",
    "    \n",
    "[\"\\nPenicillin\",c-1942],\n",
    "[\"Atomic Bombs\",c-1945],\n",
    "[\"Turing Machines\",c-1946],\n",
    "[\"Nuclear Power Plants\",c-1954],\n",
    "[\"SAM system\",c-1954],\n",
    "[\"Advanced Ballistics\",c-1957],\n",
    "[\"Telecommunications\",c-1958],\n",
    "[\"Radar Stealth\",c-1958],\n",
    "[\"Satellites\",c-1960],\n",
    "[\"Modern Tanks\",c-1960],\n",
    "[\"Lasers\",c-1960],\n",
    "[\"Particle Physics\",c-1974],\n",
    "[\"Internet\",c-1990]\n",
    "]"
   ]
  },
  {
   "cell_type": "code",
   "execution_count": 4,
   "metadata": {},
   "outputs": [],
   "source": [
    "def printtechs(techs,con_shift=0):\n",
    "    for i in range(0,len(techs)):\n",
    "        print(techs[i][0],round(techs[i][1])+con_shift)\n",
    "\n",
    "def gettechs(techs,mod):\n",
    "    for i in range(0,len(techs)):    \n",
    "        techs[i][1] = round(techs[i][1]*mod)\n",
    "    return techs"
   ]
  },
  {
   "cell_type": "code",
   "execution_count": 5,
   "metadata": {},
   "outputs": [
    {
     "name": "stdout",
     "output_type": "stream",
     "text": [
      "\n",
      " STANDARDIZED GENERATION BASE \n",
      "\n"
     ]
    }
   ],
   "source": [
    "#printtechs(tech_earth)\n",
    "\n",
    "#Let's build our standard basis: generation time on Earth.\n",
    "gen_human = 27\n",
    "tech_gens = copy.deepcopy(tech_earth)\n",
    "for i in range(0,len(tech_gens)):    \n",
    "    tech_gens[i][1] = round(tech_gens[i][1]/gen_human)\n",
    "print(\"\\n STANDARDIZED GENERATION BASE \\n\")\n",
    "#printtechs(tech_gens)"
   ]
  },
  {
   "cell_type": "code",
   "execution_count": 6,
   "metadata": {},
   "outputs": [],
   "source": [
    "def get_index(name,techlist):\n",
    "    for i in range(0,len(techlist)):\n",
    "        if techlist[i][0] == name:\n",
    "            return i\n",
    "    print(\"No match for that tech name\")\n",
    "    return 0"
   ]
  },
  {
   "cell_type": "markdown",
   "metadata": {},
   "source": [
    "# Astar"
   ]
  },
  {
   "cell_type": "markdown",
   "metadata": {},
   "source": [
    "## Yfanfald Astar Neolithic to Tellinese Bronze Age"
   ]
  },
  {
   "cell_type": "code",
   "execution_count": 7,
   "metadata": {},
   "outputs": [
    {
     "name": "stdout",
     "output_type": "stream",
     "text": [
      "Daily usage of fire 1353040\n",
      "Fictive language 330880\n",
      "Surface mining 219760\n",
      "Non-sailing boats 206440\n",
      "Shaft mining 197440\n",
      "Pottery 108640\n",
      "Obsidian trade networks 82000\n",
      "Neolithic period 73000\n",
      "Settlement size: 100 73000\n",
      "Agriculture 73000\n",
      "Animal Husbandry 73000\n",
      "Archery 73000\n",
      "Timekeeping 73000\n",
      "Granaries appear 70840\n",
      "Non-burial spiritual architecture 68560\n",
      "Proto-writing 59680\n",
      "Settlement size: 800 59680\n",
      "\n",
      "Charcolithic period 55240\n",
      "Copper working 55240\n",
      "Early textiles 55240\n",
      "Settlement size: 4000 55240\n",
      "Early Proto-Indo-European Millenium 53080\n",
      "Trapping 53080\n",
      "Carpentry 53080\n",
      "Founding of Eridu 52600\n",
      "Founding of Uruk 48640\n",
      "Late Proto-Indo-European Millenium 46360\n",
      "Significant Masonry 46360\n",
      "Paved roads 46360\n",
      "Earliest complex civilizations 46360\n",
      "Founding of Ur 45520\n",
      "\n",
      "Bronze Age 44200\n",
      "Spear and shield formations 44200\n",
      "Wheel 44200\n",
      "Horseback riding 44200\n",
      "Bronze working in Mesopotamia 44200\n",
      "Writing 43720\n",
      "Uruk has 40,000 residents, 90,000 near 42400\n",
      "Unification of Egypt 42400\n",
      "Modern calendar 41920\n"
     ]
    }
   ],
   "source": [
    "gen_human = 27\n",
    "gen_astar = 120\n",
    "gen_waith = 2000\n",
    "\n",
    "tech_astar = copy.deepcopy(tech_gens)\n",
    "tech_astar = gettechs(tech_astar,gen_astar)\n",
    "\n",
    "astar_shift_index = get_index(\"Neolithic period\",tech_astar)\n",
    "astar_neolithic = 73000\n",
    "astar_shift = astar_neolithic - tech_astar[astar_shift_index][1]\n",
    "\n",
    "#For only up to Nos Mori dark age, use :47\n",
    "printtechs(tech_astar[:40],astar_shift)"
   ]
  },
  {
   "cell_type": "markdown",
   "metadata": {},
   "source": [
    "## Astar in Nomenes after early collapse"
   ]
  },
  {
   "cell_type": "code",
   "execution_count": 7,
   "metadata": {},
   "outputs": [
    {
     "name": "stdout",
     "output_type": "stream",
     "text": [
      "Early Sumerian Dynastic Period 40268\n",
      "First Egyptian Stepped Pyramid 39788\n",
      "First standing armies 38948\n",
      "Earliest libraries 38948\n",
      "Chariot driving 38588\n",
      "Indus-Mesopotamian trade 38588\n",
      "Great pyramids 38588\n",
      "Akkadian Empire 37748\n",
      "End of Old Kingdom in Egypt 37268\n",
      "Ziggurat of Ur build 36788\n",
      "Ur over 65,000 people 36428\n",
      "Old Assyrian Empire 36428\n",
      "Approx. Equiv. Time of Mesoamerican Megaliths 36308\n",
      "Eridu abandoned 36308\n",
      "2000 BC 36308\n",
      "Assyrian merchant colony at Kanesh 35828\n",
      "Greek agora markets 35468\n",
      "Limited iron production 34988\n",
      "Early swords 34988\n",
      "Ugarit 34508\n",
      "Middle Assyrian Empire 33668\n",
      "Early engineering 33188\n",
      "Celtic Naue II swords 33188\n",
      "\n",
      "Iron Age 32828\n",
      "Large-scale iron working, common swords 32828\n",
      "Early Vedas mature 32828\n",
      "Standardized coinage 31388\n",
      "Neo Assyrian Empire 31388\n",
      "Lens 31028\n",
      "Axial Age of thought 31028\n",
      "Settlement of colony of Carthage 31028\n",
      "Philosophy 30068\n",
      "Study of Mathematics 30068\n",
      "Construction 30068\n",
      "Drama and poetry 30068\n",
      "Courthouses 29708\n",
      "Ur abandoned 29708\n",
      "Alchemy 29708\n",
      "Catapults, trebuchet, and gear technology 29228\n",
      "Platonic Academy 29108\n",
      "Optics 28748\n",
      "Trade guilds 28748\n",
      "Water wheels 28748\n",
      "Roman Engineering 28268\n",
      "Composite bows 28268\n"
     ]
    }
   ],
   "source": [
    "tech_astar = copy.deepcopy(tech_gens)\n",
    "tech_astar = gettechs(tech_astar,gen_astar)\n",
    "\n",
    "astar_shift_index = get_index(\"First standing armies\",tech_astar)\n",
    "astar_armies = 38948 #2000 year Dark Age\n",
    "astar_shift = astar_armies - tech_astar[astar_shift_index][1]\n",
    "\n",
    "printtechs(tech_astar[46:91],astar_shift)"
   ]
  },
  {
   "cell_type": "code",
   "execution_count": 8,
   "metadata": {},
   "outputs": [
    {
     "name": "stdout",
     "output_type": "stream",
     "text": [
      "Meritocracy 26628\n",
      "Systemization of medecine and surgery 26628\n",
      "End Axial Age 26628\n",
      "\n",
      "Steel Age, steel in common use 25908\n",
      "Woodblock printing 22308\n",
      "Fall of Western Roman Empire 20628\n",
      "Mechanical clocks 18468\n",
      "Medieval castles 17508\n",
      "Physics studied 15828\n",
      "University 15348\n",
      "First crusade 15348\n",
      "Compass first utilized 15108\n",
      "Crossbows common 15108\n",
      "Chivalric code 14628\n"
     ]
    }
   ],
   "source": [
    "tech_astar = copy.deepcopy(tech_gens)\n",
    "tech_astar = gettechs(tech_astar,gen_astar*2)\n",
    "\n",
    "astar_shift_index = get_index(\"\\nSteel Age, steel in common use\",tech_astar)\n",
    "astar_printing = 25908 #Harsh glacial period after global disaster stagnates significant technological advancement as civilizations shudder. 10000-15000 year stagnation.\n",
    "astar_shift = astar_printing - tech_astar[astar_shift_index][1]\n",
    "\n",
    "printtechs(tech_astar[91:105],astar_shift)"
   ]
  },
  {
   "cell_type": "markdown",
   "metadata": {},
   "source": [
    "# Cerisians"
   ]
  },
  {
   "cell_type": "code",
   "execution_count": 9,
   "metadata": {},
   "outputs": [
    {
     "name": "stdout",
     "output_type": "stream",
     "text": [
      "Eridu at largest point 41020\n",
      "Early Sumerian Dynastic Period 41020\n",
      "First Egyptian Stepped Pyramid 40540\n",
      "First standing armies 39700\n",
      "Earliest libraries 39700\n",
      "Chariot driving 39340\n",
      "Indus-Mesopotamian trade 39340\n",
      "Great pyramids 39340\n",
      "Akkadian Empire 38500\n",
      "End of Old Kingdom in Egypt 38020\n",
      "Ziggurat of Ur build 37540\n",
      "Ur over 65,000 people 37180\n",
      "Old Assyrian Empire 37180\n",
      "Approx. Equiv. Time of Mesoamerican Megaliths 37060\n",
      "Eridu abandoned 37060\n",
      "2000 BC 37060\n",
      "Assyrian merchant colony at Kanesh 36580\n",
      "Greek agora markets 36220\n",
      "Limited iron production 35740\n",
      "Early swords 35740\n",
      "Ugarit 35260\n",
      "Middle Assyrian Empire 34420\n",
      "Early engineering 33940\n",
      "Celtic Naue II swords 33940\n",
      "\n",
      "Iron Age 33580\n",
      "Large-scale iron working, common swords 33580\n",
      "Early Vedas mature 33580\n",
      "Standardized coinage 32140\n",
      "Neo Assyrian Empire 32140\n",
      "Lens 31780\n",
      "Axial Age of thought 31780\n",
      "Settlement of colony of Carthage 31780\n",
      "Philosophy 30820\n",
      "Study of Mathematics 30820\n",
      "Construction 30820\n",
      "Drama and poetry 30820\n",
      "Courthouses 30460\n",
      "Ur abandoned 30460\n",
      "Alchemy 30460\n",
      "Catapults, trebuchet, and gear technology 29980\n",
      "Platonic Academy 29860\n",
      "Optics 29500\n",
      "Trade guilds 29500\n",
      "Water wheels 29500\n",
      "Roman Engineering 29020\n"
     ]
    }
   ],
   "source": [
    "gen_human = 27\n",
    "gen_astar = 120\n",
    "gen_waith = 2000\n",
    "\n",
    "tech_astar = copy.deepcopy(tech_gens)\n",
    "tech_astar = gettechs(tech_astar,gen_astar)\n",
    "\n",
    "astar_shift_index = get_index(\"First standing armies\",tech_astar)\n",
    "astar_neolithic = 39700\n",
    "astar_shift = astar_neolithic - tech_astar[astar_shift_index][1]\n",
    "\n",
    "#For only up to Nos Mori dark age, use :47\n",
    "printtechs(tech_astar[45:90],astar_shift)"
   ]
  },
  {
   "cell_type": "code",
   "execution_count": 10,
   "metadata": {},
   "outputs": [
    {
     "name": "stdout",
     "output_type": "stream",
     "text": [
      "No match for that tech name\n",
      "Eridu at largest point -1271900\n",
      "Early Sumerian Dynastic Period -1271900\n",
      "First Egyptian Stepped Pyramid -1272380\n",
      "First standing armies -1273220\n",
      "Earliest libraries -1273220\n",
      "Chariot driving -1273580\n",
      "Indus-Mesopotamian trade -1273580\n",
      "Great pyramids -1273580\n",
      "Akkadian Empire -1274420\n",
      "End of Old Kingdom in Egypt -1274900\n",
      "Ziggurat of Ur build -1275380\n",
      "Ur over 65,000 people -1275740\n",
      "Old Assyrian Empire -1275740\n",
      "Approx. Equiv. Time of Mesoamerican Megaliths -1275860\n",
      "Eridu abandoned -1275860\n"
     ]
    }
   ],
   "source": [
    "tech_astar = copy.deepcopy(tech_gens)\n",
    "tech_astar = gettechs(tech_astar,gen_astar)\n",
    "\n",
    "astar_shift_index = get_index(\"Opt\",tech_astar)\n",
    "astar_neolithic = 39700\n",
    "astar_shift = astar_neolithic - tech_astar[astar_shift_index][1]\n",
    "\n",
    "#For only up to Nos Mori dark age, use :47\n",
    "printtechs(tech_astar[45:60],astar_shift)"
   ]
  },
  {
   "cell_type": "markdown",
   "metadata": {},
   "source": [
    "## Astar in Lunima - Charcolithic"
   ]
  },
  {
   "cell_type": "code",
   "execution_count": 11,
   "metadata": {},
   "outputs": [
    {
     "name": "stdout",
     "output_type": "stream",
     "text": [
      "Proto-writing 62619\n",
      "Settlement size: 800 62619\n",
      "\n",
      "Charcolithic period 57439\n",
      "Copper working 57439\n",
      "Early textiles 57439\n",
      "Settlement size: 4000 57439\n",
      "Early Proto-Indo-European Millenium 54919\n",
      "Trapping 54919\n",
      "Carpentry 54919\n",
      "Founding of Eridu 54359\n",
      "Founding of Uruk 49739\n",
      "Late Proto-Indo-European Millenium 47079\n",
      "Significant Masonry 47079\n",
      "Paved roads 47079\n",
      "Earliest complex civilizations 47079\n"
     ]
    }
   ],
   "source": [
    "tech = copy.deepcopy(tech_gens)\n",
    "tech = gettechs(tech,140) #140 year average generation of beginning hybridization\n",
    "\n",
    "shift_index = get_index(\"Trapping\",tech)\n",
    "folcrum = 54919\n",
    "shift = folcrum - tech[shift_index][1]\n",
    "\n",
    "#For only up to Nos Mori dark age, use :47\n",
    "printtechs(tech[15:30],shift)"
   ]
  },
  {
   "cell_type": "markdown",
   "metadata": {},
   "source": [
    "## Astar in Lunima - Brone Age"
   ]
  },
  {
   "cell_type": "code",
   "execution_count": 12,
   "metadata": {},
   "outputs": [
    {
     "name": "stdout",
     "output_type": "stream",
     "text": [
      "Agriculture 92479\n",
      "Animal Husbandry 92479\n",
      "Archery 92479\n",
      "Timekeeping 92479\n",
      "Granaries appear 88879\n",
      "Non-burial spiritual architecture 85079\n",
      "Proto-writing 70279\n",
      "Settlement size: 800 70279\n",
      "\n",
      "Charcolithic period 62879\n",
      "Copper working 62879\n",
      "Early textiles 62879\n",
      "Settlement size: 4000 62879\n",
      "Early Proto-Indo-European Millenium 59279\n",
      "Trapping 59279\n",
      "Carpentry 59279\n",
      "Founding of Eridu 58479\n",
      "Founding of Uruk 51879\n",
      "Late Proto-Indo-European Millenium 48079\n",
      "Significant Masonry 48079\n",
      "Paved roads 48079\n",
      "Earliest complex civilizations 48079\n",
      "Founding of Ur 46679\n",
      "\n",
      "Bronze Age 44479\n",
      "Spear and shield formations 44479\n",
      "Wheel 44479\n",
      "Horseback riding 44479\n",
      "Bronze working in Mesopotamia 44479\n",
      "Writing 43679\n",
      "-------------------------\n",
      "\n",
      "\n",
      "\n",
      "Wheel 45500\n",
      "Horseback riding 45500\n",
      "Bronze working in Mesopotamia 45500\n",
      "Writing 44700\n",
      "Uruk has 40,000 residents, 90,000 near 42500\n",
      "Unification of Egypt 42500\n",
      "Modern calendar 41700\n",
      "Polytheistic religions 41700\n",
      "Early mathematics 41700\n",
      "Ocean Sailing 41700\n",
      "Post and Lintel construction 41700\n",
      "Early currency 41700\n",
      "Eridu at largest point 40900\n",
      "Early Sumerian Dynastic Period 40900\n",
      "First Egyptian Stepped Pyramid 40100\n",
      "First standing armies 38700\n",
      "Earliest libraries 38700\n",
      "Chariot driving 38100\n",
      "Indus-Mesopotamian trade 38100\n",
      "Great pyramids 38100\n",
      "Akkadian Empire 36700\n",
      "End of Old Kingdom in Egypt 35900\n",
      "Ziggurat of Ur build 35100\n",
      "Ur over 65,000 people 34500\n",
      "Old Assyrian Empire 34500\n",
      "Approx. Equiv. Time of Mesoamerican Megaliths 34300\n",
      "Eridu abandoned 34300\n",
      "2000 BC 34300\n",
      "Assyrian merchant colony at Kanesh 33500\n",
      "Greek agora markets 32900\n",
      "Limited iron production 32100\n",
      "Early swords 32100\n",
      "Ugarit 31300\n",
      "Middle Assyrian Empire 29900\n",
      "Early engineering 29100\n",
      "Celtic Naue II swords 29100\n",
      "\n",
      "Iron Age 28500\n",
      "Large-scale iron working, common swords 28500\n",
      "Early Vedas mature 28500\n",
      "Standardized coinage 26100\n",
      "Neo Assyrian Empire 26100\n",
      "Lens 25500\n",
      "Axial Age of thought 25500\n",
      "Settlement of colony of Carthage 25500\n",
      "Philosophy 23900\n",
      "Study of Mathematics 23900\n",
      "Construction 23900\n",
      "Drama and poetry 23900\n",
      "Courthouses 23300\n",
      "Ur abandoned 23300\n",
      "Alchemy 23300\n",
      "Catapults, trebuchet, and gear technology 22500\n",
      "Platonic Academy 22300\n",
      "Optics 21700\n",
      "Trade guilds 21700\n",
      "Water wheels 21700\n",
      "Roman Engineering 20900\n"
     ]
    }
   ],
   "source": [
    "tech = copy.deepcopy(tech_gens)\n",
    "tech = gettechs(tech,200) #200 year average generation after hybridization\n",
    "\n",
    "shift_index = get_index(\"Earliest complex civilizations\",tech)\n",
    "folcrum = 48079\n",
    "shift = folcrum - tech[shift_index][1]\n",
    "\n",
    "#For only up to Nos Mori dark age, use :47\n",
    "printtechs(tech[shift_index-20:shift_index+8],shift)\n",
    "\n",
    "#------------------JUMP WITH BRONZE FROM DRUZ REKA\n",
    "print(\"-------------------------\\n\\n\\n\")\n",
    "tech = copy.deepcopy(tech_gens)\n",
    "tech = gettechs(tech,200) #200 year average generation after hybridization\n",
    "\n",
    "shift_index = get_index(\"Bronze working in Mesopotamia\",tech)\n",
    "folcrum = 45500\n",
    "shift = folcrum - tech[shift_index][1]\n",
    "\n",
    "#For only up to Nos Mori dark age, use :47\n",
    "printtechs(tech[shift_index-2:shift_index+55],shift)"
   ]
  },
  {
   "cell_type": "markdown",
   "metadata": {},
   "source": [
    "## Astar in East Amarth"
   ]
  },
  {
   "cell_type": "code",
   "execution_count": 13,
   "metadata": {},
   "outputs": [
    {
     "name": "stdout",
     "output_type": "stream",
     "text": [
      "Proto-writing 59680\n",
      "Settlement size: 800 59680\n",
      "\n",
      "Charcolithic period 55240\n",
      "Copper working 55240\n",
      "Early textiles 55240\n",
      "Settlement size: 4000 55240\n",
      "Early Proto-Indo-European Millenium 53080\n",
      "Trapping 53080\n",
      "Carpentry 53080\n",
      "Founding of Eridu 52600\n",
      "Founding of Uruk 48640\n",
      "Late Proto-Indo-European Millenium 46360\n",
      "Significant Masonry 46360\n",
      "Paved roads 46360\n",
      "Earliest complex civilizations 46360\n",
      "Founding of Ur 45520\n",
      "\n",
      "Bronze Age 44200\n",
      "Spear and shield formations 44200\n",
      "Wheel 44200\n",
      "Horseback riding 44200\n",
      "Bronze working in Mesopotamia 44200\n",
      "Writing 43720\n",
      "Uruk has 40,000 residents, 90,000 near 42400\n",
      "Unification of Egypt 42400\n",
      "Modern calendar 41920\n",
      "Polytheistic religions 41920\n",
      "Early mathematics 41920\n",
      "Ocean Sailing 41920\n",
      "Post and Lintel construction 41920\n",
      "Early currency 41920\n",
      "Eridu at largest point 41440\n",
      "Early Sumerian Dynastic Period 41440\n",
      "First Egyptian Stepped Pyramid 40960\n",
      "First standing armies 40120\n",
      "Earliest libraries 40120\n",
      "Chariot driving 39760\n",
      "Indus-Mesopotamian trade 39760\n",
      "Great pyramids 39760\n",
      "Akkadian Empire 38920\n",
      "End of Old Kingdom in Egypt 38440\n",
      "Ziggurat of Ur build 37960\n",
      "Ur over 65,000 people 37600\n",
      "Old Assyrian Empire 37600\n",
      "Approx. Equiv. Time of Mesoamerican Megaliths 37480\n",
      "Eridu abandoned 37480\n",
      "2000 BC 37480\n",
      "Assyrian merchant colony at Kanesh 37000\n",
      "Greek agora markets 36640\n",
      "Limited iron production 36160\n",
      "Early swords 36160\n",
      "Ugarit 35680\n",
      "Middle Assyrian Empire 34840\n",
      "Early engineering 34360\n",
      "Celtic Naue II swords 34360\n",
      "\n",
      "Iron Age 34000\n",
      "Large-scale iron working, common swords 34000\n",
      "Early Vedas mature 34000\n",
      "Standardized coinage 32560\n",
      "Neo Assyrian Empire 32560\n",
      "Lens 32200\n",
      "Axial Age of thought 32200\n",
      "Settlement of colony of Carthage 32200\n",
      "Philosophy 31240\n",
      "Study of Mathematics 31240\n",
      "Construction 31240\n"
     ]
    }
   ],
   "source": [
    "tech = copy.deepcopy(tech_gens)\n",
    "tech = gettechs(tech,120) #140 year average generation of beginning hybridization\n",
    "\n",
    "shift_index = get_index(\"Copper working\",tech)\n",
    "folcrum = 55240\n",
    "shift = folcrum - tech[shift_index][1]\n",
    "\n",
    "#For only up to Nos Mori dark age, use :47\n",
    "printtechs(tech[15:80],shift)"
   ]
  },
  {
   "cell_type": "markdown",
   "metadata": {},
   "source": [
    "## Astar in west Amarth"
   ]
  },
  {
   "cell_type": "code",
   "execution_count": 14,
   "metadata": {},
   "outputs": [
    {
     "name": "stdout",
     "output_type": "stream",
     "text": [
      "Founding of Uruk 40280\n",
      "Late Proto-Indo-European Millenium 38000\n",
      "Significant Masonry 38000\n",
      "Paved roads 38000\n",
      "Earliest complex civilizations 38000\n",
      "Founding of Ur 37160\n",
      "\n",
      "Bronze Age 35840\n",
      "Spear and shield formations 35840\n",
      "Wheel 35840\n",
      "Horseback riding 35840\n",
      "Bronze working in Mesopotamia 35840\n",
      "Writing 35360\n",
      "Uruk has 40,000 residents, 90,000 near 34040\n",
      "Unification of Egypt 34040\n",
      "Modern calendar 33560\n",
      "Polytheistic religions 33560\n",
      "Early mathematics 33560\n",
      "Ocean Sailing 33560\n",
      "Post and Lintel construction 33560\n",
      "Early currency 33560\n",
      "Eridu at largest point 33080\n",
      "Early Sumerian Dynastic Period 33080\n",
      "First Egyptian Stepped Pyramid 32600\n",
      "First standing armies 31760\n",
      "Earliest libraries 31760\n"
     ]
    }
   ],
   "source": [
    "tech = copy.deepcopy(tech_gens)\n",
    "tech = gettechs(tech,120) #140 year average generation of beginning hybridization\n",
    "\n",
    "shift_index = get_index(\"Earliest complex civilizations\",tech)\n",
    "folcrum = 38000\n",
    "shift = folcrum - tech[shift_index][1]\n",
    "\n",
    "#For only up to Nos Mori dark age, use :47\n",
    "printtechs(tech[25:50],shift)"
   ]
  },
  {
   "cell_type": "markdown",
   "metadata": {},
   "source": [
    "## Yedris"
   ]
  },
  {
   "cell_type": "code",
   "execution_count": 15,
   "metadata": {},
   "outputs": [
    {
     "name": "stdout",
     "output_type": "stream",
     "text": [
      "Modern calendar 41100\n",
      "Polytheistic religions 41100\n",
      "Early mathematics 41100\n",
      "Ocean Sailing 41100\n",
      "Post and Lintel construction 41100\n",
      "Early currency 41100\n",
      "Eridu at largest point 40300\n",
      "Early Sumerian Dynastic Period 40300\n",
      "First Egyptian Stepped Pyramid 39500\n",
      "First standing armies 38100\n",
      "Earliest libraries 38100\n",
      "Chariot driving 37500\n",
      "Indus-Mesopotamian trade 37500\n",
      "Great pyramids 37500\n",
      "Akkadian Empire 36100\n",
      "End of Old Kingdom in Egypt 35300\n",
      "Ziggurat of Ur build 34500\n",
      "Ur over 65,000 people 33900\n",
      "Old Assyrian Empire 33900\n",
      "Approx. Equiv. Time of Mesoamerican Megaliths 33700\n",
      "Eridu abandoned 33700\n",
      "2000 BC 33700\n",
      "Assyrian merchant colony at Kanesh 32900\n",
      "Greek agora markets 32300\n",
      "Limited iron production 31500\n",
      "Early swords 31500\n",
      "Ugarit 30700\n",
      "Middle Assyrian Empire 29300\n",
      "Early engineering 28500\n",
      "Celtic Naue II swords 28500\n",
      "\n",
      "Iron Age 27900\n",
      "Large-scale iron working, common swords 27900\n",
      "Early Vedas mature 27900\n",
      "Standardized coinage 25500\n",
      "Neo Assyrian Empire 25500\n"
     ]
    }
   ],
   "source": [
    "tech = copy.deepcopy(tech_gens)\n",
    "tech = gettechs(tech,200) #200 year average generation after hybridization\n",
    "\n",
    "shift_index = get_index(\"Early currency\",tech)\n",
    "folcrum = 41700 - (3*200)\n",
    "shift = folcrum - tech[shift_index][1]\n",
    "\n",
    "#For only up to Nos Mori dark age, use :47\n",
    "printtechs(tech[shift_index-5:shift_index+30],shift)"
   ]
  },
  {
   "cell_type": "markdown",
   "metadata": {},
   "source": [
    "## Iryesians"
   ]
  },
  {
   "cell_type": "code",
   "execution_count": 16,
   "metadata": {},
   "outputs": [
    {
     "name": "stdout",
     "output_type": "stream",
     "text": [
      "Founding of Eridu 48900\n",
      "Founding of Uruk 42300\n",
      "Late Proto-Indo-European Millenium 38500\n",
      "Significant Masonry 38500\n",
      "Paved roads 38500\n",
      "Earliest complex civilizations 38500\n",
      "Founding of Ur 37100\n",
      "\n",
      "Bronze Age 34900\n",
      "Spear and shield formations 34900\n",
      "Wheel 34900\n",
      "Horseback riding 34900\n",
      "Bronze working in Mesopotamia 34900\n",
      "Writing 34100\n",
      "Uruk has 40,000 residents, 90,000 near 31900\n",
      "Unification of Egypt 31900\n",
      "Modern calendar 31100\n",
      "Polytheistic religions 31100\n",
      "Early mathematics 31100\n",
      "Ocean Sailing 31100\n",
      "Post and Lintel construction 31100\n",
      "Early currency 31100\n",
      "Eridu at largest point 30300\n",
      "Early Sumerian Dynastic Period 30300\n",
      "First Egyptian Stepped Pyramid 29500\n",
      "First standing armies 28100\n",
      "Earliest libraries 28100\n",
      "Chariot driving 27500\n",
      "Indus-Mesopotamian trade 27500\n",
      "Great pyramids 27500\n",
      "Akkadian Empire 26100\n",
      "End of Old Kingdom in Egypt 25300\n",
      "Ziggurat of Ur build 24500\n",
      "Ur over 65,000 people 23900\n",
      "Old Assyrian Empire 23900\n",
      "Approx. Equiv. Time of Mesoamerican Megaliths 23700\n"
     ]
    }
   ],
   "source": [
    "tech = copy.deepcopy(tech_gens)\n",
    "tech = gettechs(tech,200) #200 year average generation after hybridization\n",
    "\n",
    "shift_index = get_index(\"Earliest complex civilizations\",tech)\n",
    "folcrum = 38500\n",
    "shift = folcrum - tech[shift_index][1]\n",
    "\n",
    "#For only up to Nos Mori dark age, use :47\n",
    "printtechs(tech[shift_index-5:shift_index+30],shift)"
   ]
  },
  {
   "cell_type": "markdown",
   "metadata": {},
   "source": [
    "## Astar in Solnaza"
   ]
  },
  {
   "cell_type": "code",
   "execution_count": 17,
   "metadata": {},
   "outputs": [
    {
     "name": "stdout",
     "output_type": "stream",
     "text": [
      "Agriculture 76400\n",
      "Animal Husbandry 76400\n",
      "Archery 76400\n",
      "Timekeeping 76400\n",
      "Granaries appear 72800\n",
      "Non-burial spiritual architecture 69000\n",
      "Proto-writing 54200\n",
      "Settlement size: 800 54200\n",
      "\n",
      "Charcolithic period 46800\n",
      "Copper working 46800\n",
      "Early textiles 46800\n",
      "Settlement size: 4000 46800\n",
      "Early Proto-Indo-European Millenium 43200\n",
      "Trapping 43200\n",
      "Carpentry 43200\n",
      "Founding of Eridu 42400\n",
      "Founding of Uruk 35800\n",
      "Late Proto-Indo-European Millenium 32000\n",
      "Significant Masonry 32000\n",
      "Paved roads 32000\n",
      "Earliest complex civilizations 32000\n",
      "Founding of Ur 30600\n",
      "\n",
      "Bronze Age 28400\n",
      "Spear and shield formations 28400\n",
      "Wheel 28400\n",
      "Horseback riding 28400\n",
      "Bronze working in Mesopotamia 28400\n",
      "Writing 27600\n",
      "Uruk has 40,000 residents, 90,000 near 25400\n",
      "Unification of Egypt 25400\n",
      "Modern calendar 24600\n",
      "Polytheistic religions 24600\n",
      "Early mathematics 24600\n",
      "Ocean Sailing 24600\n",
      "Post and Lintel construction 24600\n",
      "Early currency 24600\n",
      "Eridu at largest point 23800\n",
      "Early Sumerian Dynastic Period 23800\n",
      "First Egyptian Stepped Pyramid 23000\n",
      "First standing armies 21600\n",
      "Earliest libraries 21600\n",
      "Chariot driving 21000\n",
      "Indus-Mesopotamian trade 21000\n",
      "Great pyramids 21000\n",
      "Akkadian Empire 19600\n",
      "End of Old Kingdom in Egypt 18800\n",
      "Ziggurat of Ur build 18000\n",
      "Ur over 65,000 people 17400\n",
      "Old Assyrian Empire 17400\n",
      "Approx. Equiv. Time of Mesoamerican Megaliths 17200\n"
     ]
    }
   ],
   "source": [
    "tech = copy.deepcopy(tech_gens)\n",
    "tech = gettechs(tech,200) #200 year average generation after hybridization\n",
    "\n",
    "shift_index = get_index(\"Earliest complex civilizations\",tech)\n",
    "folcrum = 32000\n",
    "shift = folcrum - tech[shift_index][1]\n",
    "\n",
    "#For only up to Nos Mori dark age, use :47\n",
    "printtechs(tech[shift_index-20:shift_index+30],shift)"
   ]
  },
  {
   "cell_type": "markdown",
   "metadata": {},
   "source": [
    "# Waith"
   ]
  },
  {
   "cell_type": "code",
   "execution_count": 18,
   "metadata": {},
   "outputs": [
    {
     "name": "stdout",
     "output_type": "stream",
     "text": [
      "Daily usage of fire 21942000\n",
      "Fictive language 4906000\n",
      "Surface mining 3054000\n",
      "Non-sailing boats 2832000\n",
      "Shaft mining 2682000\n",
      "Pottery 1202000\n",
      "Obsidian trade networks 758000\n",
      "Neolithic period 608000\n",
      "Settlement size: 100 608000\n",
      "Agriculture 608000\n",
      "Animal Husbandry 608000\n",
      "Archery 608000\n",
      "Timekeeping 608000\n",
      "Granaries appear 572000\n",
      "Non-burial spiritual architecture 534000\n",
      "Proto-writing 386000\n",
      "Settlement size: 800 386000\n",
      "\n",
      "Charcolithic period 312000\n",
      "Copper working 312000\n",
      "Early textiles 312000\n",
      "Settlement size: 4000 312000\n",
      "Early Proto-Indo-European Millenium 276000\n",
      "Trapping 276000\n",
      "Carpentry 276000\n",
      "Founding of Eridu 268000\n",
      "Founding of Uruk 202000\n",
      "Late Proto-Indo-European Millenium 164000\n",
      "Significant Masonry 164000\n",
      "Paved roads 164000\n",
      "Earliest complex civilizations 164000\n",
      "Founding of Ur 150000\n",
      "\n",
      "Bronze Age 128000\n",
      "Spear and shield formations 128000\n",
      "Wheel 128000\n",
      "Horseback riding 128000\n",
      "Bronze working in Mesopotamia 128000\n",
      "Writing 120000\n",
      "Uruk has 40,000 residents, 90,000 near 98000\n",
      "Unification of Egypt 98000\n",
      "Modern calendar 90000\n",
      "Polytheistic religions 90000\n",
      "Early mathematics 90000\n",
      "Ocean Sailing 90000\n",
      "Post and Lintel construction 90000\n",
      "Early currency 90000\n",
      "Eridu at largest point 82000\n",
      "Early Sumerian Dynastic Period 82000\n",
      "First Egyptian Stepped Pyramid 74000\n",
      "First standing armies 60000\n",
      "Earliest libraries 60000\n",
      "Chariot driving 54000\n",
      "Indus-Mesopotamian trade 54000\n",
      "Great pyramids 54000\n",
      "Akkadian Empire 40000\n",
      "End of Old Kingdom in Egypt 32000\n",
      "Ziggurat of Ur build 24000\n",
      "Ur over 65,000 people 18000\n",
      "Old Assyrian Empire 18000\n",
      "Approx. Equiv. Time of Mesoamerican Megaliths 16000\n",
      "Eridu abandoned 16000\n"
     ]
    }
   ],
   "source": [
    "gen_waith = 2000\n",
    "tech_waith = copy.deepcopy(tech_gens)\n",
    "tech_waith = gettechs(tech_waith,gen_waith)\n",
    "\n",
    "waith_shift_index = get_index(\"Ocean Sailing\",tech_astar)\n",
    "waith_oceansailing = 90000\n",
    "waith_shift = waith_oceansailing - tech_waith[waith_shift_index][1]\n",
    "\n",
    "printtechs(tech_waith[:60],waith_shift)"
   ]
  },
  {
   "cell_type": "markdown",
   "metadata": {},
   "source": [
    "## Orun"
   ]
  },
  {
   "cell_type": "code",
   "execution_count": 19,
   "metadata": {},
   "outputs": [
    {
     "name": "stdout",
     "output_type": "stream",
     "text": [
      "Daily usage of fire 21942000\n",
      "Fictive language 4906000\n",
      "Surface mining 3054000\n",
      "Non-sailing boats 2832000\n",
      "Shaft mining 2682000\n",
      "Pottery 1202000\n",
      "Obsidian trade networks 758000\n",
      "Neolithic period 608000\n",
      "Settlement size: 100 608000\n",
      "Agriculture 608000\n",
      "Animal Husbandry 608000\n",
      "Archery 608000\n",
      "Timekeeping 608000\n",
      "Granaries appear 572000\n",
      "Non-burial spiritual architecture 534000\n",
      "Proto-writing 386000\n",
      "Settlement size: 800 386000\n",
      "\n",
      "Charcolithic period 312000\n",
      "Copper working 312000\n",
      "Early textiles 312000\n",
      "Settlement size: 4000 312000\n",
      "Early Proto-Indo-European Millenium 276000\n",
      "Trapping 276000\n",
      "Carpentry 276000\n",
      "Founding of Eridu 268000\n",
      "Founding of Uruk 202000\n",
      "Late Proto-Indo-European Millenium 164000\n",
      "Significant Masonry 164000\n",
      "Paved roads 164000\n",
      "Earliest complex civilizations 164000\n",
      "Founding of Ur 150000\n",
      "\n",
      "Bronze Age 128000\n",
      "Spear and shield formations 128000\n",
      "Wheel 128000\n",
      "Horseback riding 128000\n",
      "Bronze working in Mesopotamia 128000\n",
      "Writing 120000\n",
      "Uruk has 40,000 residents, 90,000 near 98000\n",
      "Unification of Egypt 98000\n",
      "Modern calendar 90000\n",
      "Polytheistic religions 90000\n",
      "Early mathematics 90000\n",
      "Ocean Sailing 90000\n",
      "Post and Lintel construction 90000\n",
      "Early currency 90000\n",
      "Eridu at largest point 82000\n",
      "Early Sumerian Dynastic Period 82000\n",
      "First Egyptian Stepped Pyramid 74000\n",
      "\n",
      "\n",
      "\n",
      "\n",
      "First standing armies 41000\n",
      "Earliest libraries 41000\n",
      "Chariot driving 35000\n",
      "Indus-Mesopotamian trade 35000\n",
      "Great pyramids 35000\n",
      "Akkadian Empire 21000\n",
      "End of Old Kingdom in Egypt 13000\n",
      "Ziggurat of Ur build 5000\n",
      "Ur over 65,000 people -1000\n",
      "Old Assyrian Empire -1000\n",
      "Approx. Equiv. Time of Mesoamerican Megaliths -3000\n",
      "Eridu abandoned -3000\n"
     ]
    }
   ],
   "source": [
    "gen_waith = 2000\n",
    "tech_waith = copy.deepcopy(tech_gens)\n",
    "tech_waith = gettechs(tech_waith,gen_waith)\n",
    "\n",
    "waith_shift_index = get_index(\"Earliest complex civilizations\",tech_astar)\n",
    "waith_oceansailing = 164000\n",
    "waith_shift = waith_oceansailing - tech_waith[waith_shift_index][1]\n",
    "\n",
    "printtechs(tech_waith[:48],waith_shift)\n",
    "\n",
    "waith_shift_index = get_index(\"First Egyptian Stepped Pyramid\",tech_astar)\n",
    "waith_oceansailing = 55000\n",
    "waith_shift = waith_oceansailing - tech_waith[waith_shift_index][1]\n",
    "\n",
    "print(\"\\n\\n\\n\")\n",
    "printtechs(tech_waith[48:60],waith_shift)"
   ]
  },
  {
   "cell_type": "markdown",
   "metadata": {},
   "source": [
    "# Humanity"
   ]
  },
  {
   "cell_type": "code",
   "execution_count": 20,
   "metadata": {},
   "outputs": [
    {
     "name": "stdout",
     "output_type": "stream",
     "text": [
      "Daily usage of fire 596018\n",
      "Fictive language 136046\n",
      "Surface mining 86042\n",
      "Non-sailing boats 80048\n",
      "Shaft mining 75998\n",
      "Pottery 36038\n",
      "Obsidian trade networks 24050\n",
      "Neolithic period 20000\n",
      "Settlement size: 100 20000\n",
      "Agriculture 20000\n",
      "Animal Husbandry 20000\n",
      "Archery 20000\n",
      "Timekeeping 20000\n",
      "Granaries appear 19028\n",
      "Non-burial spiritual architecture 18002\n",
      "Proto-writing 14006\n",
      "Settlement size: 800 14006\n",
      "\n",
      "Charcolithic period 12008\n",
      "Copper working 12008\n",
      "Early textiles 12008\n",
      "Settlement size: 4000 12008\n",
      "Early Proto-Indo-European Millenium 11036\n",
      "Trapping 11036\n",
      "Carpentry 11036\n",
      "Founding of Eridu 10820\n",
      "Founding of Uruk 9038\n",
      "Late Proto-Indo-European Millenium 8012\n",
      "Significant Masonry 8012\n",
      "Paved roads 8012\n",
      "Earliest complex civilizations 8012\n",
      "Founding of Ur 7634\n",
      "\n",
      "Bronze Age 7040\n",
      "Spear and shield formations 7040\n",
      "Wheel 7040\n",
      "Horseback riding 7040\n",
      "Bronze working in Mesopotamia 7040\n",
      "Writing 6824\n",
      "Uruk has 40,000 residents, 90,000 near 6230\n",
      "Unification of Egypt 6230\n",
      "Modern calendar 6014\n",
      "Polytheistic religions 6014\n",
      "Early mathematics 6014\n",
      "Ocean Sailing 6014\n",
      "Post and Lintel construction 6014\n",
      "Early currency 6014\n",
      "Eridu at largest point 5798\n",
      "Early Sumerian Dynastic Period 5798\n",
      "First Egyptian Stepped Pyramid 5582\n",
      "First standing armies 5204\n",
      "Earliest libraries 5204\n",
      "Chariot driving 5042\n",
      "Indus-Mesopotamian trade 5042\n",
      "Great pyramids 5042\n",
      "Akkadian Empire 4664\n",
      "End of Old Kingdom in Egypt 4448\n",
      "Ziggurat of Ur build 4232\n",
      "Ur over 65,000 people 4070\n",
      "Old Assyrian Empire 4070\n",
      "Approx. Equiv. Time of Mesoamerican Megaliths 4016\n",
      "Eridu abandoned 4016\n",
      "2000 BC 4016\n",
      "Assyrian merchant colony at Kanesh 3800\n",
      "Greek agora markets 3638\n",
      "Limited iron production 3422\n",
      "Early swords 3422\n",
      "Ugarit 3206\n",
      "Middle Assyrian Empire 2828\n",
      "Early engineering 2612\n",
      "Celtic Naue II swords 2612\n",
      "\n",
      "Iron Age 2450\n",
      "Large-scale iron working, common swords 2450\n",
      "Early Vedas mature 2450\n",
      "Standardized coinage 1802\n",
      "Neo Assyrian Empire 1802\n",
      "Lens 1640\n",
      "Axial Age of thought 1640\n",
      "Settlement of colony of Carthage 1640\n",
      "Philosophy 1208\n",
      "Study of Mathematics 1208\n",
      "Construction 1208\n",
      "Drama and poetry 1208\n",
      "Courthouses 1046\n",
      "Ur abandoned 1046\n",
      "Alchemy 1046\n",
      "Catapults, trebuchet, and gear technology 830\n",
      "Platonic Academy 776\n",
      "Optics 614\n",
      "Trade guilds 614\n",
      "Water wheels 614\n",
      "Roman Engineering 398\n",
      "Composite bows 398\n",
      "Meritocracy 398\n",
      "Systemization of medecine and surgery 398\n",
      "End Axial Age 398\n",
      "\n",
      "Steel Age, steel in common use 236\n",
      "Woodblock printing -574\n",
      "Fall of Western Roman Empire -952\n",
      "Mechanical clocks -1438\n",
      "Medieval castles -1654\n",
      "Physics studied -2032\n",
      "University -2140\n",
      "First crusade -2140\n",
      "Compass first utilized -2194\n",
      "Crossbows common -2194\n",
      "Chivalric code -2302\n",
      "Notre Dame constructed -2302\n",
      "Windmills -2302\n",
      "Early cannons -2518\n",
      "Longswords frequently used in combat -2572\n",
      "\n",
      "Join-stock companies -2680\n",
      "Exchange markets -2680\n",
      "Rennaisance -2788\n",
      "Banking -2788\n",
      "Printing press -2842\n",
      "Museums -2896\n",
      "Astrolabe -2950\n",
      "Beginning of the Scientific Revolution -3058\n",
      "Muskets -3058\n",
      "Metallurgy -3112\n",
      "Telescopes -3220\n",
      "Acoustics -3274\n",
      "Founding of the Royal Society -3274\n",
      "Scientific Theory, publication of Principia -3328\n",
      "Military Academies -3382\n",
      "Steam Engine -3382\n",
      "The Factory System -3490\n",
      "Chemistry -3544\n",
      "\n",
      "Archaelogy -3598\n",
      "Railroad -3598\n",
      "Electric Motor -3598\n",
      "Artificial Fertilizer -3652\n",
      "Widespread Rifling -3652\n",
      "Oil Drilling -3706\n",
      "Theory of Evolution -3706\n",
      "Gas refrigeration -3706\n",
      "Gatling Gun -3706\n",
      "Ecology -3706\n",
      "Dynamite -3706\n",
      "Automobiles -3760\n",
      "Aluminium common -3760\n",
      "Modern Artillery -3760\n",
      "\n",
      "Submarines -3760\n",
      "Broadway Theatre -3760\n",
      "Radio Broadcast -3814\n",
      "Military Planes -3814\n",
      "Replaceable Parts -3760\n",
      "Commercial Airports -3814\n",
      "Atomic Theory -3814\n",
      "Complex electronics -3814\n",
      "Machine guns -3868\n",
      "Radar -3868\n",
      "Plastics -3868\n",
      "\n",
      "Penicillin -3868\n",
      "Atomic Bombs -3868\n",
      "Turing Machines -3868\n",
      "Nuclear Power Plants -3868\n",
      "SAM system -3868\n",
      "Advanced Ballistics -3868\n",
      "Telecommunications -3868\n",
      "Radar Stealth -3868\n",
      "Satellites -3922\n",
      "Modern Tanks -3922\n",
      "Lasers -3922\n",
      "Particle Physics -3922\n",
      "Internet -3976\n"
     ]
    }
   ],
   "source": [
    "tech_man = copy.deepcopy(tech_gens)\n",
    "tech_man = gettechs(tech_man,gen_human*2)\n",
    "\n",
    "man_shift_index = get_index(\"Neolithic period\",tech_man)\n",
    "man_neolithic = 20000\n",
    "man_shift = man_neolithic - tech_man[man_shift_index][1]\n",
    "\n",
    "printtechs(tech_man[:],man_shift)"
   ]
  },
  {
   "cell_type": "markdown",
   "metadata": {},
   "source": [
    "# Civilization Length"
   ]
  },
  {
   "cell_type": "code",
   "execution_count": 21,
   "metadata": {},
   "outputs": [
    {
     "name": "stdout",
     "output_type": "stream",
     "text": [
      "336.14942528735634 253.96513149822573\n"
     ]
    }
   ],
   "source": [
    "human_empires = [505,405,501,827,800,400,187,157,500,500,46,241,313,322,210,299,250,250,478,400,1000,70,342,220,1000,661,351,298,700,225,1150,404,330,411,244,203,43,144,364,87,66,540,800,200,667,220,461,24,302,265,177,137,249,500,500,90,469,450,14,184,197,156,735,442,120,112,370,1100,45,725,140,525,195,200,70,290,250,90,100,350,30,130,100,240,90,220,70]\n",
    "\n",
    "hea = np.mean(human_empires) #human empire average\n",
    "hes = np.std(human_empires) #std\n",
    "print(hea,hes)\n",
    "\n",
    "#Average civilization is ~300 years for humans\n",
    "civ_len_gen = hea/gen_human\n",
    "civ_len_std = hes/gen_human\n",
    "\n",
    "def get_civ_rand():\n",
    "    civlen = -1\n",
    "    while civlen < 0:\n",
    "        civlen = np.random.normal(loc=civ_len_gen,scale=civ_len_std)\n",
    "    return civlen"
   ]
  },
  {
   "cell_type": "code",
   "execution_count": 22,
   "metadata": {},
   "outputs": [
    {
     "data": {
      "text/plain": [
       "Text(0, 0.5, 'Count, of 1000 civilizations')"
      ]
     },
     "execution_count": 22,
     "metadata": {},
     "output_type": "execute_result"
    },
    {
     "data": {
      "image/png": "[encoded data removed]",
      "text/plain": [
       "<Figure size 432x288 with 1 Axes>"
      ]
     },
     "metadata": {
      "needs_background": "light"
     },
     "output_type": "display_data"
    }
   ],
   "source": [
    "civlenlist = []\n",
    "for i in range(0,1000):\n",
    "    newciv = get_civ_rand()\n",
    "    if newciv > 0:\n",
    "        civlenlist.append(newciv)\n",
    "    \n",
    "plt.hist(civlenlist)\n",
    "plt.xlabel(\"Civilization generation length\")\n",
    "plt.ylabel(\"Count, of 1000 civilizations\")"
   ]
  },
  {
   "cell_type": "code",
   "execution_count": 23,
   "metadata": {},
   "outputs": [
    {
     "name": "stdout",
     "output_type": "stream",
     "text": [
      "2607.0\n",
      "328.0\n",
      "1613.0\n",
      "1341.0\n",
      "1332.0\n",
      "1658.0\n",
      "4288.0\n",
      "3134.0\n",
      "1587.0\n",
      "932.0\n",
      "1269.0\n",
      "1548.0\n",
      "1001.0\n",
      "3146.0\n",
      "2157.0\n",
      "1738.0\n",
      "356.0\n",
      "2241.0\n",
      "224.0\n",
      "3264.0\n",
      "269.0\n",
      "537.0\n",
      "2690.0\n",
      "1859.0\n",
      "1662.0\n",
      "1194.0\n",
      "3271.0\n",
      "2437.0\n",
      "3505.0\n",
      "2147.0\n",
      "Mean civ length, astar:  1844.5\n"
     ]
    }
   ],
   "source": [
    "#make a list of astar civilization lengths\n",
    "astar_civ_lens = []\n",
    "for civ in range(0,30):\n",
    "    astar_civ_lens.append(np.round(gen_astar*get_civ_rand()))\n",
    "    print(astar_civ_lens[-1])\n",
    "    \n",
    "print(\"Mean civ length, astar: \",np.mean(astar_civ_lens))"
   ]
  },
  {
   "cell_type": "markdown",
   "metadata": {},
   "source": [
    "## Half-astar"
   ]
  },
  {
   "cell_type": "code",
   "execution_count": 24,
   "metadata": {},
   "outputs": [
    {
     "name": "stdout",
     "output_type": "stream",
     "text": [
      "1102.0\n",
      "84.0\n",
      "3710.0\n",
      "1988.0\n",
      "5195.0\n",
      "2631.0\n",
      "1443.0\n",
      "801.0\n",
      "6492.0\n",
      "3331.0\n",
      "1754.0\n",
      "3436.0\n",
      "528.0\n",
      "1733.0\n",
      "6074.0\n",
      "754.0\n",
      "1784.0\n",
      "2893.0\n",
      "5640.0\n",
      "2835.0\n",
      "4671.0\n",
      "918.0\n",
      "4453.0\n",
      "4305.0\n",
      "2421.0\n",
      "4864.0\n",
      "3490.0\n",
      "2934.0\n",
      "4293.0\n",
      "1217.0\n",
      "Mean civ length, astar:  2925.8\n"
     ]
    }
   ],
   "source": [
    "#make a list of astar civilization lengths\n",
    "astar_civ_lens = []\n",
    "for civ in range(0,30):\n",
    "    astar_civ_lens.append(np.round((200)*get_civ_rand()))\n",
    "    print(astar_civ_lens[-1])\n",
    "    \n",
    "print(\"Mean civ length, astar: \",np.mean(astar_civ_lens))"
   ]
  },
  {
   "cell_type": "code",
   "execution_count": 25,
   "metadata": {},
   "outputs": [
    {
     "name": "stdout",
     "output_type": "stream",
     "text": [
      "36804\n",
      "47753\n",
      "46625\n",
      "29426\n",
      "31889\n",
      "31791\n",
      "21461\n",
      "4174\n",
      "27026\n",
      "7794\n",
      "36741\n",
      "12690\n",
      "36487\n",
      "15550\n",
      "14222\n",
      "14534\n",
      "22694\n",
      "45896\n",
      "23017\n",
      "17371\n",
      "18510\n",
      "40288\n",
      "20467\n",
      "42495\n",
      "18881\n",
      "9224\n",
      "29481\n",
      "32357\n",
      "23129\n",
      "21201\n",
      "Mean civ length, waith:  25999.266666666666\n"
     ]
    }
   ],
   "source": [
    "#make a list of waith civilization lengths\n",
    "waith_civ_lens = []\n",
    "for civ in range(0,30):\n",
    "    waith_civ_lens.append(round(gen_waith*get_civ_rand()))\n",
    "    print(waith_civ_lens[-1])\n",
    "    \n",
    "print(\"Mean civ length, waith: \",np.mean(waith_civ_lens))"
   ]
  },
  {
   "cell_type": "markdown",
   "metadata": {},
   "source": [
    "# Languages"
   ]
  },
  {
   "cell_type": "code",
   "execution_count": 26,
   "metadata": {},
   "outputs": [],
   "source": [
    "##Languages tend to become incomprehensible after being isolated for 500-1000 years\n",
    "def get_lang_change(gen_i):\n",
    "    human_change_len = 500+10*(random.randint(1,300)/2)\n",
    "    gen_num = human_change_len/((gen_human+60)/2)\n",
    "    return gen_i * gen_num"
   ]
  },
  {
   "cell_type": "markdown",
   "metadata": {},
   "source": [
    "# Waith Languages"
   ]
  },
  {
   "cell_type": "code",
   "execution_count": 27,
   "metadata": {},
   "outputs": [
    {
     "name": "stdout",
     "output_type": "stream",
     "text": [
      "203448\n",
      "237931\n",
      "396552\n",
      "440230\n",
      "175862\n",
      "244828\n",
      "387356\n",
      "366667\n",
      "143678\n",
      "322989\n",
      "419540\n",
      "393103\n",
      "200000\n",
      "396552\n",
      "306897\n",
      "331034\n",
      "143678\n",
      "395402\n",
      "143678\n",
      "306897\n",
      "306897\n",
      "426437\n",
      "294253\n",
      "155172\n",
      "205747\n",
      "450575\n",
      "209195\n",
      "251724\n",
      "378161\n",
      "363218\n"
     ]
    }
   ],
   "source": [
    "gen_waith_effective = (18000+2000)/2\n",
    "for civ in range(0,30):\n",
    "    print(round(get_lang_change(gen_waith_effective)))"
   ]
  },
  {
   "cell_type": "markdown",
   "metadata": {},
   "source": [
    "# Astar languages"
   ]
  },
  {
   "cell_type": "code",
   "execution_count": 34,
   "metadata": {},
   "outputs": [
    {
     "name": "stdout",
     "output_type": "stream",
     "text": [
      "12703\n",
      "4717\n",
      "5048\n",
      "12166\n",
      "7738\n",
      "4469\n",
      "6041\n",
      "11917\n",
      "4179\n",
      "10634\n",
      "7407\n",
      "12083\n",
      "8110\n",
      "5379\n",
      "4800\n",
      "5214\n",
      "8897\n",
      "6828\n",
      "13159\n",
      "12579\n",
      "15766\n",
      "7655\n",
      "6000\n",
      "8938\n",
      "8483\n",
      "15103\n",
      "13697\n",
      "16428\n",
      "8359\n",
      "10262\n"
     ]
    }
   ],
   "source": [
    "gen_astar_effective = (600+120)/2\n",
    "for civ in range(0,30):\n",
    "    print(round(get_lang_change(gen_astar_effective)))"
   ]
  },
  {
   "cell_type": "code",
   "execution_count": 29,
   "metadata": {},
   "outputs": [
    {
     "name": "stdout",
     "output_type": "stream",
     "text": [
      "9828\n",
      "15000\n",
      "9655\n",
      "18448\n",
      "10345\n",
      "12989\n",
      "18793\n",
      "16609\n",
      "7644\n",
      "17126\n",
      "19828\n",
      "11494\n",
      "16552\n",
      "21897\n",
      "9195\n",
      "9828\n",
      "22701\n",
      "13506\n",
      "9483\n",
      "19023\n",
      "10862\n",
      "16839\n",
      "18391\n",
      "19943\n",
      "8333\n",
      "14828\n",
      "17471\n",
      "21437\n",
      "5805\n",
      "6264\n"
     ]
    }
   ],
   "source": [
    "gen_astar_effective = (800+200)/2\n",
    "for civ in range(0,30):\n",
    "    print(round(get_lang_change(gen_astar_effective)))"
   ]
  },
  {
   "cell_type": "code",
   "execution_count": 30,
   "metadata": {},
   "outputs": [],
   "source": [
    "##Ancient cities tended to vary in their population over generations.\n",
    "##Eridu was settled around 5400 or 5000 BCE and grew to its largest extent by 2900 BCE. It was abandoned by 2000 BCE.\n",
    "##Eridu represents one of the earliest cities to be settled and to grow to importance.\n",
    "##Let's use Eridu as a model for the rise of the earliest cities.\n",
    "def get_ancient_city_len(gen):\n",
    "    comp_rise = 5200 - 2900\n",
    "    comp_fall = 900\n",
    "    gen_rise = comp_rise/gen_human\n",
    "    gen_fall = comp_fall/gen_human\n",
    "    risefall = [gen_rise,gen_fall]\n",
    "    return [gen*gen_rise,gen*gen_fall]"
   ]
  },
  {
   "cell_type": "code",
   "execution_count": 31,
   "metadata": {},
   "outputs": [
    {
     "data": {
      "text/plain": [
       "[2300.0, 900.0000000000001]"
      ]
     },
     "execution_count": 31,
     "metadata": {},
     "output_type": "execute_result"
    }
   ],
   "source": [
    "get_ancient_city_len(gen_human)"
   ]
  },
  {
   "cell_type": "code",
   "execution_count": 32,
   "metadata": {},
   "outputs": [
    {
     "data": {
      "text/plain": [
       "17"
      ]
     },
     "execution_count": 32,
     "metadata": {},
     "output_type": "execute_result"
    }
   ],
   "source": [
    "90-73"
   ]
  },
  {
   "cell_type": "code",
   "execution_count": null,
   "metadata": {},
   "outputs": [],
   "source": []
  },
  {
   "cell_type": "code",
   "execution_count": null,
   "metadata": {},
   "outputs": [],
   "source": []
  }
 ],
 "metadata": {
  "kernelspec": {
   "display_name": "Python 3 (ipykernel)",
   "language": "python",
   "name": "python3"
  },
  "language_info": {
   "codemirror_mode": {
    "name": "ipython",
    "version": 3
   },
   "file_extension": ".py",
   "mimetype": "text/x-python",
   "name": "python",
   "nbconvert_exporter": "python",
   "pygments_lexer": "ipython3",
   "version": "3.8.5"
  }
 },
 "nbformat": 4,
 "nbformat_minor": 4
}
