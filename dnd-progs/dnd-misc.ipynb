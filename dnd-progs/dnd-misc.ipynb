{
 "cells": [
  {
   "cell_type": "code",
   "execution_count": 1,
   "metadata": {},
   "outputs": [],
   "source": [
    "import numpy as np\n",
    "import matplotlib.pyplot as plt\n",
    "import random\n",
    "import copy"
   ]
  },
  {
   "cell_type": "code",
   "execution_count": 27,
   "metadata": {},
   "outputs": [
    {
     "name": "stdout",
     "output_type": "stream",
     "text": [
      "Number of days with one repeat dose:  109.5\n",
      "Number of days with two repeat doses:  32.85\n",
      "Number of days with three repeat doses:  9.855\n",
      "Number of days with four repeat doses (overdose):  2.9565\n",
      "Number of times Night would probably have died each year:  1.1967912000000003\n",
      "Number of doses per year:  520.1615\n",
      "Number of bits spent:  1040.323\n",
      "Average daily Zip cost:  2.8502\n"
     ]
    }
   ],
   "source": [
    "ctr = 0.3 #chance to repeat; repeat dose chance\n",
    "n_1r = 365*ctr #number of 1 repeat days\n",
    "n_2r = n_1r*ctr #num 2 repeat days, etc.\n",
    "n_3r = n_2r*ctr\n",
    "n_4r = n_3r*ctr\n",
    "\n",
    "ndoses = ((365)+n_1r + n_2r + n_3r + n_4r) #number of doses in a year\n",
    "nbits = ndoses*2 #number of bits spent on Zip\n",
    "avg_daily_cost = nbits/365 #average daily cost of Zip addiciton\n",
    "\n",
    "print(\"Number of days with one repeat dose: \",n_1r)\n",
    "print(\"Number of days with two repeat doses: \",n_2r)\n",
    "print(\"Number of days with three repeat doses: \",n_3r)\n",
    "print(\"Number of days with four repeat doses (overdose): \",n_4r)\n",
    "\n",
    "chance_of_survival = 0.5952\n",
    "print(\"Number of times Night would probably have died each year: \",n_4r*(1-chance_of_survival))\n",
    "\n",
    "print(\"Number of doses per year: \",ndoses)\n",
    "print(\"Number of bits spent: \",nbits)\n",
    "print(\"Average daily Zip cost: \",avg_daily_cost)"
   ]
  },
  {
   "cell_type": "code",
   "execution_count": 29,
   "metadata": {},
   "outputs": [
    {
     "name": "stdout",
     "output_type": "stream",
     "text": [
      "Percentage of yearly income spent on drugs:  144.48930555555555\n"
     ]
    }
   ],
   "source": [
    "#If Night makes the average wage of a working person:\n",
    "pay = 2*30*12 #2 bits/day, 30 days/month, 12 months/year\n",
    "print(\"Percentage of yearly income spent on drugs: \", nbits*100/pay)"
   ]
  },
  {
   "cell_type": "code",
   "execution_count": null,
   "metadata": {},
   "outputs": [],
   "source": []
  }
 ],
 "metadata": {
  "kernelspec": {
   "display_name": "Python 3",
   "language": "python",
   "name": "python3"
  },
  "language_info": {
   "codemirror_mode": {
    "name": "ipython",
    "version": 3
   },
   "file_extension": ".py",
   "mimetype": "text/x-python",
   "name": "python",
   "nbconvert_exporter": "python",
   "pygments_lexer": "ipython3",
   "version": "3.7.4"
  }
 },
 "nbformat": 4,
 "nbformat_minor": 4
}
