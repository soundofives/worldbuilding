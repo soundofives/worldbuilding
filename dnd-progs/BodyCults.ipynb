{
 "cells": [
  {
   "cell_type": "code",
   "execution_count": 1,
   "metadata": {},
   "outputs": [],
   "source": [
    "import numpy as np\n",
    "import matplotlib.pyplot as plt\n",
    "import random as rand"
   ]
  },
  {
   "cell_type": "code",
   "execution_count": 2,
   "metadata": {},
   "outputs": [],
   "source": [
    "#Think about how many cults and how many sacrifices/cult would need to be done to give Eres\n",
    "#enough magical energy to rebuild a body\n",
    "#Number of total sacrifices needed: 6,631,579\n",
    "#A sacrifice can be sent with the Plane Shift spell; but that's a 7th level spell!\n",
    "#Low-level cultists will need to work together to perform this piece of magic."
   ]
  },
  {
   "cell_type": "code",
   "execution_count": 3,
   "metadata": {},
   "outputs": [],
   "source": [
    "cur_cults = np.zeros([1000,2])"
   ]
  },
  {
   "cell_type": "code",
   "execution_count": 4,
   "metadata": {},
   "outputs": [],
   "source": [
    "#Ritual rules from here: https://www.brandesstoddard.com/2017/05/dd-5e-rituals-and-the-occult/\n",
    "#Would say that a ritual caster could perform the spell (they suggest knowing the spell,\n",
    "#but level 2-4 cultists couldn't really know spells like that) with a series\n",
    "#of 5 checks, alternating between spell attacks and spell checks (might change this).\n",
    "\n",
    "#Based on the ideas there, Plane Shift would have a check DC of 40 !!!\n",
    "#The lvl 2-4 cult leader could gain bonuses on the spell check from other casters or a choir\n",
    "#of noncasting followers.\n",
    "#Let's see what an average run might be like for a lvl 4 Cult Fanatic from the DMG.\n",
    "\n",
    "def roll20(adv):\n",
    "    if adv:\n",
    "        return max(rand.randint(1,20),rand.randint(1,20))\n",
    "    else:\n",
    "        return rand.randint(1,20)"
   ]
  },
  {
   "cell_type": "code",
   "execution_count": 5,
   "metadata": {},
   "outputs": [],
   "source": [
    "#CultFanatic\n",
    "#Spell check bonus: +3"
   ]
  },
  {
   "cell_type": "code",
   "execution_count": 23,
   "metadata": {},
   "outputs": [
    {
     "data": {
      "text/plain": [
       "216000000.0"
      ]
     },
     "execution_count": 23,
     "metadata": {},
     "output_type": "execute_result"
    }
   ],
   "source": [
    "#This kind of cult sacrifice necessitates magic, so we have to consider only cultures that have access to magic\n",
    "#Of these cultures, some won't support its use. If there's a will, there's a way though, so we'll consider that these\n",
    "#non-supporting cultures will still probably have one cult per civilization.\n",
    "\n",
    "#Of the cultures that support magic use, they'll be much easier to influence. Let's say there are 5 cults for these civilizations.\n",
    "#We can build up a Drake-ish equation here.\n",
    "\n",
    "#Let's consider an average cult. The number of sacrifices made per year, on average, will be n_s\n",
    "#Now that we've introduced time, we'll have to consider the longevity of these cults. I'd say a cult\n",
    "#will tend to last the length of a civilization. In that case, we'll have a parameter representing the\n",
    "#average longevity of a civilization.\n",
    "\n",
    "#N = (F * n_c_l * n_civ * f_m * n_s)*(f_s*5 + (1-f_s)*1)\n",
    "#N = number of sacrifices\n",
    "#F = cultural fold, number of cultural timelines considered\n",
    "#n_c_l = number of full cultural lengths considered\n",
    "    #we can break this down:\n",
    "    #n_c_l = t / t_cu\n",
    "    #t = years considered\n",
    "    #t_cu = average longevity of a culture\n",
    "#n_civ = number of civilizations per full cultural length\n",
    "    #we can break this down:\n",
    "    #n_civ = t_cu / t_c\n",
    "    #t_c = number of years per civilization\n",
    "#f_m = fraction of cultures that have access to magic\n",
    "#f_s = fraction of those cultures that support magic use\n",
    "#n_s = number of sacrifices made per year per cult\n",
    "\n",
    "N = lambda F,n_c_l,n_civ,f_m,n_s,f_s: (F*n_c_l*n_civ*f_m*n_s*t)*(5*f_s+(1-f_s))\n",
    "\n",
    "#considering waith culture\n",
    "F = 10\n",
    "t = 30000 #number of years to consider\n",
    "t_cu = 10000 #waith culture survives this long, ish\n",
    "n_c_l = t / t_cu\n",
    "\n",
    "t_c = 1500 #avg of 30000\n",
    "n_civ = t_cu / t_c\n",
    "\n",
    "f_m = 1 #after advent of magic\n",
    "f_s = 0.5 #all support magic\n",
    "n_s = 12 #Let's say 1 per month\n",
    "\n",
    "#print(n_civ*F*n_c_l,(5*f_s+(1-f_s)))\n",
    "N(F,n_c_l,n_civ,f_m,n_s,f_s)"
   ]
  },
  {
   "cell_type": "code",
   "execution_count": 29,
   "metadata": {},
   "outputs": [
    {
     "data": {
      "text/plain": [
       "33333.333333333336"
      ]
     },
     "execution_count": 29,
     "metadata": {},
     "output_type": "execute_result"
    }
   ],
   "source": [
    "6e6/(12*15)"
   ]
  },
  {
   "cell_type": "code",
   "execution_count": null,
   "metadata": {},
   "outputs": [],
   "source": []
  }
 ],
 "metadata": {
  "kernelspec": {
   "display_name": "Python 3 (ipykernel)",
   "language": "python",
   "name": "python3"
  },
  "language_info": {
   "codemirror_mode": {
    "name": "ipython",
    "version": 3
   },
   "file_extension": ".py",
   "mimetype": "text/x-python",
   "name": "python",
   "nbconvert_exporter": "python",
   "pygments_lexer": "ipython3",
   "version": "3.8.5"
  }
 },
 "nbformat": 4,
 "nbformat_minor": 4
}
